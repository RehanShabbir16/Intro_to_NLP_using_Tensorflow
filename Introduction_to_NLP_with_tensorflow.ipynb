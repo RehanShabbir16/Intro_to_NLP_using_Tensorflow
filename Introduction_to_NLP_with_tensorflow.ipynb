{
  "nbformat": 4,
  "nbformat_minor": 0,
  "metadata": {
    "colab": {
      "provenance": [],
      "authorship_tag": "ABX9TyMsiFPyq6KsbWBlmYPgxB+m",
      "include_colab_link": true
    },
    "kernelspec": {
      "name": "python3",
      "display_name": "Python 3"
    },
    "language_info": {
      "name": "python"
    }
  },
  "cells": [
    {
      "cell_type": "markdown",
      "metadata": {
        "id": "view-in-github",
        "colab_type": "text"
      },
      "source": [
        "<a href=\"https://colab.research.google.com/github/RehanShabbir16/Intro_to_NLP_using_Tensorflow/blob/main/Introduction_to_NLP_with_tensorflow.ipynb\" target=\"_parent\"><img src=\"https://colab.research.google.com/assets/colab-badge.svg\" alt=\"Open In Colab\"/></a>"
      ]
    },
    {
      "cell_type": "code",
      "execution_count": 123,
      "metadata": {
        "id": "lspIt6-2qfBd"
      },
      "outputs": [],
      "source": [
        "from tensorflow.keras.preprocessing.text import Tokenizer\n",
        "from tensorflow.keras.preprocessing.sequence import pad_sequences\n",
        "import numpy as np"
      ]
    },
    {
      "cell_type": "code",
      "source": [
        "!wget https://storage.googleapis.com/tensorflow-1-public/course3/sarcasm.json"
      ],
      "metadata": {
        "colab": {
          "base_uri": "https://localhost:8080/"
        },
        "id": "DZOTFr0QziBE",
        "outputId": "f677fd8d-b0f9-42bc-e620-cbbd10899af7"
      },
      "execution_count": 124,
      "outputs": [
        {
          "output_type": "stream",
          "name": "stdout",
          "text": [
            "--2024-08-15 06:55:27--  https://storage.googleapis.com/tensorflow-1-public/course3/sarcasm.json\n",
            "Resolving storage.googleapis.com (storage.googleapis.com)... 142.250.141.207, 142.251.2.207, 74.125.137.207, ...\n",
            "Connecting to storage.googleapis.com (storage.googleapis.com)|142.250.141.207|:443... connected.\n",
            "HTTP request sent, awaiting response... 200 OK\n",
            "Length: 5643545 (5.4M) [application/json]\n",
            "Saving to: ‘sarcasm.json.1’\n",
            "\n",
            "sarcasm.json.1      100%[===================>]   5.38M  --.-KB/s    in 0.06s   \n",
            "\n",
            "2024-08-15 06:55:27 (83.5 MB/s) - ‘sarcasm.json.1’ saved [5643545/5643545]\n",
            "\n"
          ]
        }
      ]
    },
    {
      "cell_type": "code",
      "source": [
        "import json\n",
        "with open('sarcasm.json','r') as f:\n",
        "  datastore=json.load(f)"
      ],
      "metadata": {
        "id": "P-2rbJsEzlqC"
      },
      "execution_count": 125,
      "outputs": []
    },
    {
      "cell_type": "code",
      "source": [
        "datastore[0][\"headline\"]"
      ],
      "metadata": {
        "colab": {
          "base_uri": "https://localhost:8080/",
          "height": 35
        },
        "id": "7CY_nLDI0Fit",
        "outputId": "88913b69-6fc2-4e03-9dc7-2150029086f7"
      },
      "execution_count": 126,
      "outputs": [
        {
          "output_type": "execute_result",
          "data": {
            "text/plain": [
              "\"former versace store clerk sues over secret 'black code' for minority shoppers\""
            ],
            "application/vnd.google.colaboratory.intrinsic+json": {
              "type": "string"
            }
          },
          "metadata": {},
          "execution_count": 126
        }
      ]
    },
    {
      "cell_type": "code",
      "source": [
        "sentences=[]\n",
        "labels=[]\n",
        "urls=[]\n",
        "for i in datastore:\n",
        "  sentences.append(i[\"headline\"])\n",
        "  labels.append(i[\"is_sarcastic\"])\n",
        "  urls.append(i[\"article_link\"])"
      ],
      "metadata": {
        "id": "-c_3fDgA0HUo"
      },
      "execution_count": 127,
      "outputs": []
    },
    {
      "cell_type": "code",
      "source": [
        "labels[0]"
      ],
      "metadata": {
        "colab": {
          "base_uri": "https://localhost:8080/"
        },
        "id": "6wF_Sm460hqr",
        "outputId": "d8f0c1f4-3d0a-4443-88c4-61c840fd639b"
      },
      "execution_count": 128,
      "outputs": [
        {
          "output_type": "execute_result",
          "data": {
            "text/plain": [
              "0"
            ]
          },
          "metadata": {},
          "execution_count": 128
        }
      ]
    },
    {
      "cell_type": "code",
      "source": [
        "training_size=20000\n",
        "training_sentences=sentences[0:training_size]\n",
        "training_labels=labels[0:training_size]\n",
        "testing_sentences=sentences[training_size:]\n",
        "testing_labels=labels[training_size:]"
      ],
      "metadata": {
        "id": "XTp6oEHY2DFO"
      },
      "execution_count": 144,
      "outputs": []
    },
    {
      "cell_type": "code",
      "source": [
        "training_sentences=np.array(training_sentences)\n",
        "testing_sentences=np.array(testing_sentences)"
      ],
      "metadata": {
        "id": "iAf6anRtwdvd"
      },
      "execution_count": 145,
      "outputs": []
    },
    {
      "cell_type": "code",
      "source": [
        "training_labels_final = np.array(training_labels)\n",
        "testing_labels_final = np.array(testing_labels)"
      ],
      "metadata": {
        "id": "W1co-9SWwVz6"
      },
      "execution_count": 146,
      "outputs": []
    },
    {
      "cell_type": "code",
      "source": [
        "oov_token=\"<oov>\"\n",
        "vocab_size=1000\n",
        "max_len=32\n",
        "embedding_dim=16\n",
        "input_length=32\n",
        "\n",
        "tokenize=Tokenizer(oov_token=oov_token,num_words=vocab_size)\n",
        "tokenize.fit_on_texts(sentences)\n",
        "word_idx=tokenize.word_index"
      ],
      "metadata": {
        "id": "CDVnrIu60rC1"
      },
      "execution_count": 147,
      "outputs": []
    },
    {
      "cell_type": "code",
      "source": [
        "training_sequences=tokenize.texts_to_sequences(training_sentences)\n",
        "test_sequences=tokenize.texts_to_sequences(testing_sentences)\n"
      ],
      "metadata": {
        "id": "gkIEZxzy1U4R"
      },
      "execution_count": 148,
      "outputs": []
    },
    {
      "cell_type": "code",
      "source": [
        "padding=pad_sequences(training_sequences,padding=\"post\",maxlen=max_len)\n",
        "testing_padding=pad_sequences(test_sequences,padding=\"post\",maxlen=max_len)"
      ],
      "metadata": {
        "id": "PKlcU4a51k3F"
      },
      "execution_count": 158,
      "outputs": []
    },
    {
      "cell_type": "code",
      "source": [
        "padding[0]"
      ],
      "metadata": {
        "colab": {
          "base_uri": "https://localhost:8080/"
        },
        "id": "4VA9CvkXv2TG",
        "outputId": "8242b33d-ff7d-4551-aa6e-96ea07d04488"
      },
      "execution_count": 159,
      "outputs": [
        {
          "output_type": "execute_result",
          "data": {
            "text/plain": [
              "array([308,   1, 679,   1,   1,  48, 382,   1,   1,   6,   1,   1,   0,\n",
              "         0,   0,   0,   0,   0,   0,   0,   0,   0,   0,   0,   0,   0,\n",
              "         0,   0,   0,   0,   0,   0], dtype=int32)"
            ]
          },
          "metadata": {},
          "execution_count": 159
        }
      ]
    },
    {
      "cell_type": "code",
      "source": [
        "padding[0].shape"
      ],
      "metadata": {
        "colab": {
          "base_uri": "https://localhost:8080/"
        },
        "id": "M8D3SUkazB8G",
        "outputId": "298454ec-f1c0-47c1-b1bf-f076a2159708"
      },
      "execution_count": 160,
      "outputs": [
        {
          "output_type": "execute_result",
          "data": {
            "text/plain": [
              "(32,)"
            ]
          },
          "metadata": {},
          "execution_count": 160
        }
      ]
    },
    {
      "cell_type": "code",
      "source": [
        "import tensorflow as tf"
      ],
      "metadata": {
        "id": "53O1HqeNsIr1"
      },
      "execution_count": 161,
      "outputs": []
    },
    {
      "cell_type": "code",
      "source": [
        "model=tf.keras.Sequential([\n",
        "    tf.keras.layers.Embedding(vocab_size,embedding_dim,input_length=max_len),\n",
        "    tf.keras.layers.Flatten(),\n",
        "    tf.keras.layers.Dense(6,activation=\"relu\"),\n",
        "    tf.keras.layers.Dense(1,activation=\"sigmoid\")\n",
        "])"
      ],
      "metadata": {
        "colab": {
          "base_uri": "https://localhost:8080/"
        },
        "id": "AoCoG6SWspqz",
        "outputId": "2d6c1253-1583-4394-be63-3f11d16f478f"
      },
      "execution_count": 162,
      "outputs": [
        {
          "output_type": "stream",
          "name": "stderr",
          "text": [
            "/usr/local/lib/python3.10/dist-packages/keras/src/layers/core/embedding.py:90: UserWarning: Argument `input_length` is deprecated. Just remove it.\n",
            "  warnings.warn(\n"
          ]
        }
      ]
    },
    {
      "cell_type": "code",
      "source": [
        "testing_padding.shape"
      ],
      "metadata": {
        "colab": {
          "base_uri": "https://localhost:8080/"
        },
        "id": "60v7s4dY1adv",
        "outputId": "1e7ea222-2758-46ed-8efd-5e027dc033e0"
      },
      "execution_count": 163,
      "outputs": [
        {
          "output_type": "execute_result",
          "data": {
            "text/plain": [
              "(6709, 32)"
            ]
          },
          "metadata": {},
          "execution_count": 163
        }
      ]
    },
    {
      "cell_type": "code",
      "source": [
        "model.compile(loss=\"binary_crossentropy\",optimizer=\"adam\",metrics=[\"accuracy\"])"
      ],
      "metadata": {
        "id": "73I1HvxxsztU"
      },
      "execution_count": 165,
      "outputs": []
    },
    {
      "cell_type": "code",
      "source": [
        "model.fit(np.array(padding),np.array(training_labels),epochs=10,validation_data=(np.array(testing_padding),np.array(testing_labels)))"
      ],
      "metadata": {
        "colab": {
          "base_uri": "https://localhost:8080/"
        },
        "id": "8fAelKLns2Yj",
        "outputId": "5c839f1f-901a-4a46-ba8e-31966bcdad01"
      },
      "execution_count": 166,
      "outputs": [
        {
          "output_type": "stream",
          "name": "stdout",
          "text": [
            "Epoch 1/10\n",
            "\u001b[1m625/625\u001b[0m \u001b[32m━━━━━━━━━━━━━━━━━━━━\u001b[0m\u001b[37m\u001b[0m \u001b[1m4s\u001b[0m 4ms/step - accuracy: 0.6481 - loss: 0.5868 - val_accuracy: 0.8278 - val_loss: 0.3725\n",
            "Epoch 2/10\n",
            "\u001b[1m625/625\u001b[0m \u001b[32m━━━━━━━━━━━━━━━━━━━━\u001b[0m\u001b[37m\u001b[0m \u001b[1m4s\u001b[0m 2ms/step - accuracy: 0.8540 - loss: 0.3331 - val_accuracy: 0.8334 - val_loss: 0.3570\n",
            "Epoch 3/10\n",
            "\u001b[1m625/625\u001b[0m \u001b[32m━━━━━━━━━━━━━━━━━━━━\u001b[0m\u001b[37m\u001b[0m \u001b[1m2s\u001b[0m 2ms/step - accuracy: 0.8770 - loss: 0.2876 - val_accuracy: 0.8348 - val_loss: 0.3595\n",
            "Epoch 4/10\n",
            "\u001b[1m625/625\u001b[0m \u001b[32m━━━━━━━━━━━━━━━━━━━━\u001b[0m\u001b[37m\u001b[0m \u001b[1m1s\u001b[0m 2ms/step - accuracy: 0.8864 - loss: 0.2641 - val_accuracy: 0.8290 - val_loss: 0.3795\n",
            "Epoch 5/10\n",
            "\u001b[1m625/625\u001b[0m \u001b[32m━━━━━━━━━━━━━━━━━━━━\u001b[0m\u001b[37m\u001b[0m \u001b[1m1s\u001b[0m 2ms/step - accuracy: 0.8984 - loss: 0.2414 - val_accuracy: 0.8289 - val_loss: 0.3905\n",
            "Epoch 6/10\n",
            "\u001b[1m625/625\u001b[0m \u001b[32m━━━━━━━━━━━━━━━━━━━━\u001b[0m\u001b[37m\u001b[0m \u001b[1m1s\u001b[0m 2ms/step - accuracy: 0.9126 - loss: 0.2167 - val_accuracy: 0.8135 - val_loss: 0.4278\n",
            "Epoch 7/10\n",
            "\u001b[1m625/625\u001b[0m \u001b[32m━━━━━━━━━━━━━━━━━━━━\u001b[0m\u001b[37m\u001b[0m \u001b[1m3s\u001b[0m 3ms/step - accuracy: 0.9154 - loss: 0.1998 - val_accuracy: 0.8119 - val_loss: 0.4475\n",
            "Epoch 8/10\n",
            "\u001b[1m625/625\u001b[0m \u001b[32m━━━━━━━━━━━━━━━━━━━━\u001b[0m\u001b[37m\u001b[0m \u001b[1m2s\u001b[0m 2ms/step - accuracy: 0.9330 - loss: 0.1713 - val_accuracy: 0.8103 - val_loss: 0.4681\n",
            "Epoch 9/10\n",
            "\u001b[1m625/625\u001b[0m \u001b[32m━━━━━━━━━━━━━━━━━━━━\u001b[0m\u001b[37m\u001b[0m \u001b[1m1s\u001b[0m 2ms/step - accuracy: 0.9392 - loss: 0.1575 - val_accuracy: 0.8000 - val_loss: 0.5153\n",
            "Epoch 10/10\n",
            "\u001b[1m625/625\u001b[0m \u001b[32m━━━━━━━━━━━━━━━━━━━━\u001b[0m\u001b[37m\u001b[0m \u001b[1m1s\u001b[0m 2ms/step - accuracy: 0.9438 - loss: 0.1506 - val_accuracy: 0.8030 - val_loss: 0.5485\n"
          ]
        },
        {
          "output_type": "execute_result",
          "data": {
            "text/plain": [
              "<keras.src.callbacks.history.History at 0x7f8734a5faf0>"
            ]
          },
          "metadata": {},
          "execution_count": 166
        }
      ]
    },
    {
      "cell_type": "code",
      "source": [
        "model.summary()"
      ],
      "metadata": {
        "colab": {
          "base_uri": "https://localhost:8080/",
          "height": 273
        },
        "id": "RY-qCzops5fe",
        "outputId": "6eddc369-11e2-4fee-aae6-0bd80256ff2c"
      },
      "execution_count": 167,
      "outputs": [
        {
          "output_type": "display_data",
          "data": {
            "text/plain": [
              "\u001b[1mModel: \"sequential_13\"\u001b[0m\n"
            ],
            "text/html": [
              "<pre style=\"white-space:pre;overflow-x:auto;line-height:normal;font-family:Menlo,'DejaVu Sans Mono',consolas,'Courier New',monospace\"><span style=\"font-weight: bold\">Model: \"sequential_13\"</span>\n",
              "</pre>\n"
            ]
          },
          "metadata": {}
        },
        {
          "output_type": "display_data",
          "data": {
            "text/plain": [
              "┏━━━━━━━━━━━━━━━━━━━━━━━━━━━━━━━━━━━━━━┳━━━━━━━━━━━━━━━━━━━━━━━━━━━━━┳━━━━━━━━━━━━━━━━━┓\n",
              "┃\u001b[1m \u001b[0m\u001b[1mLayer (type)                        \u001b[0m\u001b[1m \u001b[0m┃\u001b[1m \u001b[0m\u001b[1mOutput Shape               \u001b[0m\u001b[1m \u001b[0m┃\u001b[1m \u001b[0m\u001b[1m        Param #\u001b[0m\u001b[1m \u001b[0m┃\n",
              "┡━━━━━━━━━━━━━━━━━━━━━━━━━━━━━━━━━━━━━━╇━━━━━━━━━━━━━━━━━━━━━━━━━━━━━╇━━━━━━━━━━━━━━━━━┩\n",
              "│ embedding_13 (\u001b[38;5;33mEmbedding\u001b[0m)             │ (\u001b[38;5;34m32\u001b[0m, \u001b[38;5;34m32\u001b[0m, \u001b[38;5;34m16\u001b[0m)                │          \u001b[38;5;34m16,000\u001b[0m │\n",
              "├──────────────────────────────────────┼─────────────────────────────┼─────────────────┤\n",
              "│ flatten_12 (\u001b[38;5;33mFlatten\u001b[0m)                 │ (\u001b[38;5;34m32\u001b[0m, \u001b[38;5;34m512\u001b[0m)                   │               \u001b[38;5;34m0\u001b[0m │\n",
              "├──────────────────────────────────────┼─────────────────────────────┼─────────────────┤\n",
              "│ dense_26 (\u001b[38;5;33mDense\u001b[0m)                     │ (\u001b[38;5;34m32\u001b[0m, \u001b[38;5;34m6\u001b[0m)                     │           \u001b[38;5;34m3,078\u001b[0m │\n",
              "├──────────────────────────────────────┼─────────────────────────────┼─────────────────┤\n",
              "│ dense_27 (\u001b[38;5;33mDense\u001b[0m)                     │ (\u001b[38;5;34m32\u001b[0m, \u001b[38;5;34m1\u001b[0m)                     │               \u001b[38;5;34m7\u001b[0m │\n",
              "└──────────────────────────────────────┴─────────────────────────────┴─────────────────┘\n"
            ],
            "text/html": [
              "<pre style=\"white-space:pre;overflow-x:auto;line-height:normal;font-family:Menlo,'DejaVu Sans Mono',consolas,'Courier New',monospace\">┏━━━━━━━━━━━━━━━━━━━━━━━━━━━━━━━━━━━━━━┳━━━━━━━━━━━━━━━━━━━━━━━━━━━━━┳━━━━━━━━━━━━━━━━━┓\n",
              "┃<span style=\"font-weight: bold\"> Layer (type)                         </span>┃<span style=\"font-weight: bold\"> Output Shape                </span>┃<span style=\"font-weight: bold\">         Param # </span>┃\n",
              "┡━━━━━━━━━━━━━━━━━━━━━━━━━━━━━━━━━━━━━━╇━━━━━━━━━━━━━━━━━━━━━━━━━━━━━╇━━━━━━━━━━━━━━━━━┩\n",
              "│ embedding_13 (<span style=\"color: #0087ff; text-decoration-color: #0087ff\">Embedding</span>)             │ (<span style=\"color: #00af00; text-decoration-color: #00af00\">32</span>, <span style=\"color: #00af00; text-decoration-color: #00af00\">32</span>, <span style=\"color: #00af00; text-decoration-color: #00af00\">16</span>)                │          <span style=\"color: #00af00; text-decoration-color: #00af00\">16,000</span> │\n",
              "├──────────────────────────────────────┼─────────────────────────────┼─────────────────┤\n",
              "│ flatten_12 (<span style=\"color: #0087ff; text-decoration-color: #0087ff\">Flatten</span>)                 │ (<span style=\"color: #00af00; text-decoration-color: #00af00\">32</span>, <span style=\"color: #00af00; text-decoration-color: #00af00\">512</span>)                   │               <span style=\"color: #00af00; text-decoration-color: #00af00\">0</span> │\n",
              "├──────────────────────────────────────┼─────────────────────────────┼─────────────────┤\n",
              "│ dense_26 (<span style=\"color: #0087ff; text-decoration-color: #0087ff\">Dense</span>)                     │ (<span style=\"color: #00af00; text-decoration-color: #00af00\">32</span>, <span style=\"color: #00af00; text-decoration-color: #00af00\">6</span>)                     │           <span style=\"color: #00af00; text-decoration-color: #00af00\">3,078</span> │\n",
              "├──────────────────────────────────────┼─────────────────────────────┼─────────────────┤\n",
              "│ dense_27 (<span style=\"color: #0087ff; text-decoration-color: #0087ff\">Dense</span>)                     │ (<span style=\"color: #00af00; text-decoration-color: #00af00\">32</span>, <span style=\"color: #00af00; text-decoration-color: #00af00\">1</span>)                     │               <span style=\"color: #00af00; text-decoration-color: #00af00\">7</span> │\n",
              "└──────────────────────────────────────┴─────────────────────────────┴─────────────────┘\n",
              "</pre>\n"
            ]
          },
          "metadata": {}
        },
        {
          "output_type": "display_data",
          "data": {
            "text/plain": [
              "\u001b[1m Total params: \u001b[0m\u001b[38;5;34m57,257\u001b[0m (223.66 KB)\n"
            ],
            "text/html": [
              "<pre style=\"white-space:pre;overflow-x:auto;line-height:normal;font-family:Menlo,'DejaVu Sans Mono',consolas,'Courier New',monospace\"><span style=\"font-weight: bold\"> Total params: </span><span style=\"color: #00af00; text-decoration-color: #00af00\">57,257</span> (223.66 KB)\n",
              "</pre>\n"
            ]
          },
          "metadata": {}
        },
        {
          "output_type": "display_data",
          "data": {
            "text/plain": [
              "\u001b[1m Trainable params: \u001b[0m\u001b[38;5;34m19,085\u001b[0m (74.55 KB)\n"
            ],
            "text/html": [
              "<pre style=\"white-space:pre;overflow-x:auto;line-height:normal;font-family:Menlo,'DejaVu Sans Mono',consolas,'Courier New',monospace\"><span style=\"font-weight: bold\"> Trainable params: </span><span style=\"color: #00af00; text-decoration-color: #00af00\">19,085</span> (74.55 KB)\n",
              "</pre>\n"
            ]
          },
          "metadata": {}
        },
        {
          "output_type": "display_data",
          "data": {
            "text/plain": [
              "\u001b[1m Non-trainable params: \u001b[0m\u001b[38;5;34m0\u001b[0m (0.00 B)\n"
            ],
            "text/html": [
              "<pre style=\"white-space:pre;overflow-x:auto;line-height:normal;font-family:Menlo,'DejaVu Sans Mono',consolas,'Courier New',monospace\"><span style=\"font-weight: bold\"> Non-trainable params: </span><span style=\"color: #00af00; text-decoration-color: #00af00\">0</span> (0.00 B)\n",
              "</pre>\n"
            ]
          },
          "metadata": {}
        },
        {
          "output_type": "display_data",
          "data": {
            "text/plain": [
              "\u001b[1m Optimizer params: \u001b[0m\u001b[38;5;34m38,172\u001b[0m (149.11 KB)\n"
            ],
            "text/html": [
              "<pre style=\"white-space:pre;overflow-x:auto;line-height:normal;font-family:Menlo,'DejaVu Sans Mono',consolas,'Courier New',monospace\"><span style=\"font-weight: bold\"> Optimizer params: </span><span style=\"color: #00af00; text-decoration-color: #00af00\">38,172</span> (149.11 KB)\n",
              "</pre>\n"
            ]
          },
          "metadata": {}
        }
      ]
    },
    {
      "cell_type": "code",
      "source": [
        "!pip install plotly"
      ],
      "metadata": {
        "colab": {
          "base_uri": "https://localhost:8080/"
        },
        "id": "8cB7QrQN1ywW",
        "outputId": "2a37cd9c-76ab-4f77-8205-e0c68da5ce06"
      },
      "execution_count": 168,
      "outputs": [
        {
          "output_type": "stream",
          "name": "stdout",
          "text": [
            "Requirement already satisfied: plotly in /usr/local/lib/python3.10/dist-packages (5.15.0)\n",
            "Requirement already satisfied: tenacity>=6.2.0 in /usr/local/lib/python3.10/dist-packages (from plotly) (9.0.0)\n",
            "Requirement already satisfied: packaging in /usr/local/lib/python3.10/dist-packages (from plotly) (24.1)\n"
          ]
        }
      ]
    },
    {
      "cell_type": "code",
      "source": [
        "import plotly.express as px\n",
        "import pandas as pd\n",
        "from sklearn.manifold import TSNE"
      ],
      "metadata": {
        "id": "0FAqctEM2Evj"
      },
      "execution_count": 170,
      "outputs": []
    },
    {
      "cell_type": "code",
      "source": [
        "embedding_layer=model.layers[0]\n",
        "embedding_weights=embedding_layer.get_weights()[0]"
      ],
      "metadata": {
        "id": "nWoNqrMH2GRI"
      },
      "execution_count": 171,
      "outputs": []
    },
    {
      "cell_type": "code",
      "source": [
        "df=pd.DataFrame(embedding_weights)\n",
        "df.head()"
      ],
      "metadata": {
        "colab": {
          "base_uri": "https://localhost:8080/",
          "height": 226
        },
        "id": "HzkTbRM02Tuh",
        "outputId": "b285f4a8-7c4e-431f-d91a-3e66f505a58c"
      },
      "execution_count": 172,
      "outputs": [
        {
          "output_type": "execute_result",
          "data": {
            "text/plain": [
              "         0         1         2         3         4         5         6   \\\n",
              "0  0.005275 -0.007004 -0.028039  0.037237  0.043419  0.041317  0.109748   \n",
              "1 -0.015358  0.063263  0.007377  0.009829 -0.014245 -0.055426 -0.001578   \n",
              "2  0.016893  0.010356  0.052581  0.054562 -0.033073  0.001060 -0.051422   \n",
              "3  0.036621  0.028428  0.054734  0.012484 -0.041679  0.003675  0.105360   \n",
              "4  0.207831 -0.172386 -0.014274  0.086487  0.207870  0.263536 -0.134398   \n",
              "\n",
              "         7         8         9         10        11        12        13  \\\n",
              "0 -0.067317  0.001852 -0.051631  0.045621 -0.059205 -0.057192 -0.074269   \n",
              "1  0.028217  0.004469 -0.054036 -0.033190 -0.055516  0.032717 -0.002985   \n",
              "2  0.116804  0.026759  0.182957 -0.060284 -0.043995  0.091154 -0.049449   \n",
              "3  0.087681 -0.083728 -0.013615 -0.100711 -0.086143 -0.073154 -0.021564   \n",
              "4  0.037819  0.030333  0.191265  0.309756  0.358846 -0.024325 -0.219917   \n",
              "\n",
              "         14        15  \n",
              "0 -0.085512  0.021310  \n",
              "1  0.037470  0.003464  \n",
              "2  0.080890  0.065305  \n",
              "3  0.071982  0.143285  \n",
              "4 -0.236783 -0.278731  "
            ],
            "text/html": [
              "\n",
              "  <div id=\"df-daaeb77f-763d-4777-9627-64ed04ad14c7\" class=\"colab-df-container\">\n",
              "    <div>\n",
              "<style scoped>\n",
              "    .dataframe tbody tr th:only-of-type {\n",
              "        vertical-align: middle;\n",
              "    }\n",
              "\n",
              "    .dataframe tbody tr th {\n",
              "        vertical-align: top;\n",
              "    }\n",
              "\n",
              "    .dataframe thead th {\n",
              "        text-align: right;\n",
              "    }\n",
              "</style>\n",
              "<table border=\"1\" class=\"dataframe\">\n",
              "  <thead>\n",
              "    <tr style=\"text-align: right;\">\n",
              "      <th></th>\n",
              "      <th>0</th>\n",
              "      <th>1</th>\n",
              "      <th>2</th>\n",
              "      <th>3</th>\n",
              "      <th>4</th>\n",
              "      <th>5</th>\n",
              "      <th>6</th>\n",
              "      <th>7</th>\n",
              "      <th>8</th>\n",
              "      <th>9</th>\n",
              "      <th>10</th>\n",
              "      <th>11</th>\n",
              "      <th>12</th>\n",
              "      <th>13</th>\n",
              "      <th>14</th>\n",
              "      <th>15</th>\n",
              "    </tr>\n",
              "  </thead>\n",
              "  <tbody>\n",
              "    <tr>\n",
              "      <th>0</th>\n",
              "      <td>0.005275</td>\n",
              "      <td>-0.007004</td>\n",
              "      <td>-0.028039</td>\n",
              "      <td>0.037237</td>\n",
              "      <td>0.043419</td>\n",
              "      <td>0.041317</td>\n",
              "      <td>0.109748</td>\n",
              "      <td>-0.067317</td>\n",
              "      <td>0.001852</td>\n",
              "      <td>-0.051631</td>\n",
              "      <td>0.045621</td>\n",
              "      <td>-0.059205</td>\n",
              "      <td>-0.057192</td>\n",
              "      <td>-0.074269</td>\n",
              "      <td>-0.085512</td>\n",
              "      <td>0.021310</td>\n",
              "    </tr>\n",
              "    <tr>\n",
              "      <th>1</th>\n",
              "      <td>-0.015358</td>\n",
              "      <td>0.063263</td>\n",
              "      <td>0.007377</td>\n",
              "      <td>0.009829</td>\n",
              "      <td>-0.014245</td>\n",
              "      <td>-0.055426</td>\n",
              "      <td>-0.001578</td>\n",
              "      <td>0.028217</td>\n",
              "      <td>0.004469</td>\n",
              "      <td>-0.054036</td>\n",
              "      <td>-0.033190</td>\n",
              "      <td>-0.055516</td>\n",
              "      <td>0.032717</td>\n",
              "      <td>-0.002985</td>\n",
              "      <td>0.037470</td>\n",
              "      <td>0.003464</td>\n",
              "    </tr>\n",
              "    <tr>\n",
              "      <th>2</th>\n",
              "      <td>0.016893</td>\n",
              "      <td>0.010356</td>\n",
              "      <td>0.052581</td>\n",
              "      <td>0.054562</td>\n",
              "      <td>-0.033073</td>\n",
              "      <td>0.001060</td>\n",
              "      <td>-0.051422</td>\n",
              "      <td>0.116804</td>\n",
              "      <td>0.026759</td>\n",
              "      <td>0.182957</td>\n",
              "      <td>-0.060284</td>\n",
              "      <td>-0.043995</td>\n",
              "      <td>0.091154</td>\n",
              "      <td>-0.049449</td>\n",
              "      <td>0.080890</td>\n",
              "      <td>0.065305</td>\n",
              "    </tr>\n",
              "    <tr>\n",
              "      <th>3</th>\n",
              "      <td>0.036621</td>\n",
              "      <td>0.028428</td>\n",
              "      <td>0.054734</td>\n",
              "      <td>0.012484</td>\n",
              "      <td>-0.041679</td>\n",
              "      <td>0.003675</td>\n",
              "      <td>0.105360</td>\n",
              "      <td>0.087681</td>\n",
              "      <td>-0.083728</td>\n",
              "      <td>-0.013615</td>\n",
              "      <td>-0.100711</td>\n",
              "      <td>-0.086143</td>\n",
              "      <td>-0.073154</td>\n",
              "      <td>-0.021564</td>\n",
              "      <td>0.071982</td>\n",
              "      <td>0.143285</td>\n",
              "    </tr>\n",
              "    <tr>\n",
              "      <th>4</th>\n",
              "      <td>0.207831</td>\n",
              "      <td>-0.172386</td>\n",
              "      <td>-0.014274</td>\n",
              "      <td>0.086487</td>\n",
              "      <td>0.207870</td>\n",
              "      <td>0.263536</td>\n",
              "      <td>-0.134398</td>\n",
              "      <td>0.037819</td>\n",
              "      <td>0.030333</td>\n",
              "      <td>0.191265</td>\n",
              "      <td>0.309756</td>\n",
              "      <td>0.358846</td>\n",
              "      <td>-0.024325</td>\n",
              "      <td>-0.219917</td>\n",
              "      <td>-0.236783</td>\n",
              "      <td>-0.278731</td>\n",
              "    </tr>\n",
              "  </tbody>\n",
              "</table>\n",
              "</div>\n",
              "    <div class=\"colab-df-buttons\">\n",
              "\n",
              "  <div class=\"colab-df-container\">\n",
              "    <button class=\"colab-df-convert\" onclick=\"convertToInteractive('df-daaeb77f-763d-4777-9627-64ed04ad14c7')\"\n",
              "            title=\"Convert this dataframe to an interactive table.\"\n",
              "            style=\"display:none;\">\n",
              "\n",
              "  <svg xmlns=\"http://www.w3.org/2000/svg\" height=\"24px\" viewBox=\"0 -960 960 960\">\n",
              "    <path d=\"M120-120v-720h720v720H120Zm60-500h600v-160H180v160Zm220 220h160v-160H400v160Zm0 220h160v-160H400v160ZM180-400h160v-160H180v160Zm440 0h160v-160H620v160ZM180-180h160v-160H180v160Zm440 0h160v-160H620v160Z\"/>\n",
              "  </svg>\n",
              "    </button>\n",
              "\n",
              "  <style>\n",
              "    .colab-df-container {\n",
              "      display:flex;\n",
              "      gap: 12px;\n",
              "    }\n",
              "\n",
              "    .colab-df-convert {\n",
              "      background-color: #E8F0FE;\n",
              "      border: none;\n",
              "      border-radius: 50%;\n",
              "      cursor: pointer;\n",
              "      display: none;\n",
              "      fill: #1967D2;\n",
              "      height: 32px;\n",
              "      padding: 0 0 0 0;\n",
              "      width: 32px;\n",
              "    }\n",
              "\n",
              "    .colab-df-convert:hover {\n",
              "      background-color: #E2EBFA;\n",
              "      box-shadow: 0px 1px 2px rgba(60, 64, 67, 0.3), 0px 1px 3px 1px rgba(60, 64, 67, 0.15);\n",
              "      fill: #174EA6;\n",
              "    }\n",
              "\n",
              "    .colab-df-buttons div {\n",
              "      margin-bottom: 4px;\n",
              "    }\n",
              "\n",
              "    [theme=dark] .colab-df-convert {\n",
              "      background-color: #3B4455;\n",
              "      fill: #D2E3FC;\n",
              "    }\n",
              "\n",
              "    [theme=dark] .colab-df-convert:hover {\n",
              "      background-color: #434B5C;\n",
              "      box-shadow: 0px 1px 3px 1px rgba(0, 0, 0, 0.15);\n",
              "      filter: drop-shadow(0px 1px 2px rgba(0, 0, 0, 0.3));\n",
              "      fill: #FFFFFF;\n",
              "    }\n",
              "  </style>\n",
              "\n",
              "    <script>\n",
              "      const buttonEl =\n",
              "        document.querySelector('#df-daaeb77f-763d-4777-9627-64ed04ad14c7 button.colab-df-convert');\n",
              "      buttonEl.style.display =\n",
              "        google.colab.kernel.accessAllowed ? 'block' : 'none';\n",
              "\n",
              "      async function convertToInteractive(key) {\n",
              "        const element = document.querySelector('#df-daaeb77f-763d-4777-9627-64ed04ad14c7');\n",
              "        const dataTable =\n",
              "          await google.colab.kernel.invokeFunction('convertToInteractive',\n",
              "                                                    [key], {});\n",
              "        if (!dataTable) return;\n",
              "\n",
              "        const docLinkHtml = 'Like what you see? Visit the ' +\n",
              "          '<a target=\"_blank\" href=https://colab.research.google.com/notebooks/data_table.ipynb>data table notebook</a>'\n",
              "          + ' to learn more about interactive tables.';\n",
              "        element.innerHTML = '';\n",
              "        dataTable['output_type'] = 'display_data';\n",
              "        await google.colab.output.renderOutput(dataTable, element);\n",
              "        const docLink = document.createElement('div');\n",
              "        docLink.innerHTML = docLinkHtml;\n",
              "        element.appendChild(docLink);\n",
              "      }\n",
              "    </script>\n",
              "  </div>\n",
              "\n",
              "\n",
              "<div id=\"df-cbe68b01-1707-456a-a8fd-7117ea55c6bf\">\n",
              "  <button class=\"colab-df-quickchart\" onclick=\"quickchart('df-cbe68b01-1707-456a-a8fd-7117ea55c6bf')\"\n",
              "            title=\"Suggest charts\"\n",
              "            style=\"display:none;\">\n",
              "\n",
              "<svg xmlns=\"http://www.w3.org/2000/svg\" height=\"24px\"viewBox=\"0 0 24 24\"\n",
              "     width=\"24px\">\n",
              "    <g>\n",
              "        <path d=\"M19 3H5c-1.1 0-2 .9-2 2v14c0 1.1.9 2 2 2h14c1.1 0 2-.9 2-2V5c0-1.1-.9-2-2-2zM9 17H7v-7h2v7zm4 0h-2V7h2v10zm4 0h-2v-4h2v4z\"/>\n",
              "    </g>\n",
              "</svg>\n",
              "  </button>\n",
              "\n",
              "<style>\n",
              "  .colab-df-quickchart {\n",
              "      --bg-color: #E8F0FE;\n",
              "      --fill-color: #1967D2;\n",
              "      --hover-bg-color: #E2EBFA;\n",
              "      --hover-fill-color: #174EA6;\n",
              "      --disabled-fill-color: #AAA;\n",
              "      --disabled-bg-color: #DDD;\n",
              "  }\n",
              "\n",
              "  [theme=dark] .colab-df-quickchart {\n",
              "      --bg-color: #3B4455;\n",
              "      --fill-color: #D2E3FC;\n",
              "      --hover-bg-color: #434B5C;\n",
              "      --hover-fill-color: #FFFFFF;\n",
              "      --disabled-bg-color: #3B4455;\n",
              "      --disabled-fill-color: #666;\n",
              "  }\n",
              "\n",
              "  .colab-df-quickchart {\n",
              "    background-color: var(--bg-color);\n",
              "    border: none;\n",
              "    border-radius: 50%;\n",
              "    cursor: pointer;\n",
              "    display: none;\n",
              "    fill: var(--fill-color);\n",
              "    height: 32px;\n",
              "    padding: 0;\n",
              "    width: 32px;\n",
              "  }\n",
              "\n",
              "  .colab-df-quickchart:hover {\n",
              "    background-color: var(--hover-bg-color);\n",
              "    box-shadow: 0 1px 2px rgba(60, 64, 67, 0.3), 0 1px 3px 1px rgba(60, 64, 67, 0.15);\n",
              "    fill: var(--button-hover-fill-color);\n",
              "  }\n",
              "\n",
              "  .colab-df-quickchart-complete:disabled,\n",
              "  .colab-df-quickchart-complete:disabled:hover {\n",
              "    background-color: var(--disabled-bg-color);\n",
              "    fill: var(--disabled-fill-color);\n",
              "    box-shadow: none;\n",
              "  }\n",
              "\n",
              "  .colab-df-spinner {\n",
              "    border: 2px solid var(--fill-color);\n",
              "    border-color: transparent;\n",
              "    border-bottom-color: var(--fill-color);\n",
              "    animation:\n",
              "      spin 1s steps(1) infinite;\n",
              "  }\n",
              "\n",
              "  @keyframes spin {\n",
              "    0% {\n",
              "      border-color: transparent;\n",
              "      border-bottom-color: var(--fill-color);\n",
              "      border-left-color: var(--fill-color);\n",
              "    }\n",
              "    20% {\n",
              "      border-color: transparent;\n",
              "      border-left-color: var(--fill-color);\n",
              "      border-top-color: var(--fill-color);\n",
              "    }\n",
              "    30% {\n",
              "      border-color: transparent;\n",
              "      border-left-color: var(--fill-color);\n",
              "      border-top-color: var(--fill-color);\n",
              "      border-right-color: var(--fill-color);\n",
              "    }\n",
              "    40% {\n",
              "      border-color: transparent;\n",
              "      border-right-color: var(--fill-color);\n",
              "      border-top-color: var(--fill-color);\n",
              "    }\n",
              "    60% {\n",
              "      border-color: transparent;\n",
              "      border-right-color: var(--fill-color);\n",
              "    }\n",
              "    80% {\n",
              "      border-color: transparent;\n",
              "      border-right-color: var(--fill-color);\n",
              "      border-bottom-color: var(--fill-color);\n",
              "    }\n",
              "    90% {\n",
              "      border-color: transparent;\n",
              "      border-bottom-color: var(--fill-color);\n",
              "    }\n",
              "  }\n",
              "</style>\n",
              "\n",
              "  <script>\n",
              "    async function quickchart(key) {\n",
              "      const quickchartButtonEl =\n",
              "        document.querySelector('#' + key + ' button');\n",
              "      quickchartButtonEl.disabled = true;  // To prevent multiple clicks.\n",
              "      quickchartButtonEl.classList.add('colab-df-spinner');\n",
              "      try {\n",
              "        const charts = await google.colab.kernel.invokeFunction(\n",
              "            'suggestCharts', [key], {});\n",
              "      } catch (error) {\n",
              "        console.error('Error during call to suggestCharts:', error);\n",
              "      }\n",
              "      quickchartButtonEl.classList.remove('colab-df-spinner');\n",
              "      quickchartButtonEl.classList.add('colab-df-quickchart-complete');\n",
              "    }\n",
              "    (() => {\n",
              "      let quickchartButtonEl =\n",
              "        document.querySelector('#df-cbe68b01-1707-456a-a8fd-7117ea55c6bf button');\n",
              "      quickchartButtonEl.style.display =\n",
              "        google.colab.kernel.accessAllowed ? 'block' : 'none';\n",
              "    })();\n",
              "  </script>\n",
              "</div>\n",
              "\n",
              "    </div>\n",
              "  </div>\n"
            ],
            "application/vnd.google.colaboratory.intrinsic+json": {
              "type": "dataframe",
              "variable_name": "df",
              "summary": "{\n  \"name\": \"df\",\n  \"rows\": 1000,\n  \"fields\": [\n    {\n      \"column\": 0,\n      \"properties\": {\n        \"dtype\": \"float32\",\n        \"num_unique_values\": 1000,\n        \"samples\": [\n          0.11326602846384048,\n          -0.005540681537240744,\n          -0.06799721717834473\n        ],\n        \"semantic_type\": \"\",\n        \"description\": \"\"\n      }\n    },\n    {\n      \"column\": 1,\n      \"properties\": {\n        \"dtype\": \"float32\",\n        \"num_unique_values\": 1000,\n        \"samples\": [\n          -0.0788794457912445,\n          0.10588336735963821,\n          0.05726340040564537\n        ],\n        \"semantic_type\": \"\",\n        \"description\": \"\"\n      }\n    },\n    {\n      \"column\": 2,\n      \"properties\": {\n        \"dtype\": \"float32\",\n        \"num_unique_values\": 1000,\n        \"samples\": [\n          0.21334578096866608,\n          0.00902511365711689,\n          -0.0017176332185044885\n        ],\n        \"semantic_type\": \"\",\n        \"description\": \"\"\n      }\n    },\n    {\n      \"column\": 3,\n      \"properties\": {\n        \"dtype\": \"float32\",\n        \"num_unique_values\": 1000,\n        \"samples\": [\n          0.0747687965631485,\n          -0.07095853984355927,\n          -0.2238851636648178\n        ],\n        \"semantic_type\": \"\",\n        \"description\": \"\"\n      }\n    },\n    {\n      \"column\": 4,\n      \"properties\": {\n        \"dtype\": \"float32\",\n        \"num_unique_values\": 1000,\n        \"samples\": [\n          0.09948169440031052,\n          -0.034500621259212494,\n          -0.02964203432202339\n        ],\n        \"semantic_type\": \"\",\n        \"description\": \"\"\n      }\n    },\n    {\n      \"column\": 5,\n      \"properties\": {\n        \"dtype\": \"float32\",\n        \"num_unique_values\": 1000,\n        \"samples\": [\n          -0.11186636984348297,\n          -0.1816648542881012,\n          -0.050462011247873306\n        ],\n        \"semantic_type\": \"\",\n        \"description\": \"\"\n      }\n    },\n    {\n      \"column\": 6,\n      \"properties\": {\n        \"dtype\": \"float32\",\n        \"num_unique_values\": 1000,\n        \"samples\": [\n          -0.08560031652450562,\n          -0.19528186321258545,\n          -0.10656175017356873\n        ],\n        \"semantic_type\": \"\",\n        \"description\": \"\"\n      }\n    },\n    {\n      \"column\": 7,\n      \"properties\": {\n        \"dtype\": \"float32\",\n        \"num_unique_values\": 1000,\n        \"samples\": [\n          0.1528177708387375,\n          0.14086797833442688,\n          -0.12803025543689728\n        ],\n        \"semantic_type\": \"\",\n        \"description\": \"\"\n      }\n    },\n    {\n      \"column\": 8,\n      \"properties\": {\n        \"dtype\": \"float32\",\n        \"num_unique_values\": 1000,\n        \"samples\": [\n          -0.24058276414871216,\n          0.0052293818444013596,\n          0.1513195037841797\n        ],\n        \"semantic_type\": \"\",\n        \"description\": \"\"\n      }\n    },\n    {\n      \"column\": 9,\n      \"properties\": {\n        \"dtype\": \"float32\",\n        \"num_unique_values\": 1000,\n        \"samples\": [\n          0.07741867005825043,\n          -0.18150447309017181,\n          -0.12492463737726212\n        ],\n        \"semantic_type\": \"\",\n        \"description\": \"\"\n      }\n    },\n    {\n      \"column\": 10,\n      \"properties\": {\n        \"dtype\": \"float32\",\n        \"num_unique_values\": 1000,\n        \"samples\": [\n          -0.0982198640704155,\n          -0.1337830126285553,\n          0.06658831238746643\n        ],\n        \"semantic_type\": \"\",\n        \"description\": \"\"\n      }\n    },\n    {\n      \"column\": 11,\n      \"properties\": {\n        \"dtype\": \"float32\",\n        \"num_unique_values\": 1000,\n        \"samples\": [\n          0.014758008532226086,\n          -0.11249571293592453,\n          -0.006729292217642069\n        ],\n        \"semantic_type\": \"\",\n        \"description\": \"\"\n      }\n    },\n    {\n      \"column\": 12,\n      \"properties\": {\n        \"dtype\": \"float32\",\n        \"num_unique_values\": 1000,\n        \"samples\": [\n          -0.0705241784453392,\n          0.11515950411558151,\n          0.08741860836744308\n        ],\n        \"semantic_type\": \"\",\n        \"description\": \"\"\n      }\n    },\n    {\n      \"column\": 13,\n      \"properties\": {\n        \"dtype\": \"float32\",\n        \"num_unique_values\": 1000,\n        \"samples\": [\n          0.04125978425145149,\n          0.25756391882896423,\n          0.37819650769233704\n        ],\n        \"semantic_type\": \"\",\n        \"description\": \"\"\n      }\n    },\n    {\n      \"column\": 14,\n      \"properties\": {\n        \"dtype\": \"float32\",\n        \"num_unique_values\": 1000,\n        \"samples\": [\n          -0.05084511265158653,\n          0.16090449690818787,\n          -0.030170492827892303\n        ],\n        \"semantic_type\": \"\",\n        \"description\": \"\"\n      }\n    },\n    {\n      \"column\": 15,\n      \"properties\": {\n        \"dtype\": \"float32\",\n        \"num_unique_values\": 1000,\n        \"samples\": [\n          -0.0012647503754124045,\n          0.06025661900639534,\n          -0.0331791415810585\n        ],\n        \"semantic_type\": \"\",\n        \"description\": \"\"\n      }\n    }\n  ]\n}"
            }
          },
          "metadata": {},
          "execution_count": 172
        }
      ]
    },
    {
      "cell_type": "code",
      "source": [
        "embedding_dim=TSNE(n_components=3).fit_transform(df)"
      ],
      "metadata": {
        "id": "B0uWPIvH2fwW"
      },
      "execution_count": 173,
      "outputs": []
    },
    {
      "cell_type": "code",
      "source": [
        "meta = pd.DataFrame(list(word_idx.keys()))\n"
      ],
      "metadata": {
        "id": "wXsP9t-K2tvf"
      },
      "execution_count": 195,
      "outputs": []
    },
    {
      "cell_type": "code",
      "source": [
        "df.shape"
      ],
      "metadata": {
        "colab": {
          "base_uri": "https://localhost:8080/"
        },
        "id": "ft6QB1BL3-XK",
        "outputId": "d1d401e6-53bc-45ee-b5c7-a93d9995053a"
      },
      "execution_count": 196,
      "outputs": [
        {
          "output_type": "execute_result",
          "data": {
            "text/plain": [
              "(1000, 16)"
            ]
          },
          "metadata": {},
          "execution_count": 196
        }
      ]
    },
    {
      "cell_type": "code",
      "source": [
        "meta.shape"
      ],
      "metadata": {
        "colab": {
          "base_uri": "https://localhost:8080/"
        },
        "id": "pJ9Yc2vt38NL",
        "outputId": "547a55fc-4a2e-44a3-a24e-08b576e09a7b"
      },
      "execution_count": 197,
      "outputs": [
        {
          "output_type": "execute_result",
          "data": {
            "text/plain": [
              "(29657, 1)"
            ]
          },
          "metadata": {},
          "execution_count": 197
        }
      ]
    },
    {
      "cell_type": "code",
      "source": [
        "meta=meta[:999]\n",
        "meta.columns = ['label']  # Assign a column name if needed\n",
        "meta['x'] = embedding_dim[1:, 0]\n",
        "meta['y'] = embedding_dim[1:, 1]\n",
        "meta['z'] = embedding_dim[1:, 2]"
      ],
      "metadata": {
        "colab": {
          "base_uri": "https://localhost:8080/"
        },
        "id": "HBHvxCkC3gIG",
        "outputId": "46a8c669-0917-4f63-ad5b-a80a9a304d5f"
      },
      "execution_count": 199,
      "outputs": [
        {
          "output_type": "stream",
          "name": "stderr",
          "text": [
            "<ipython-input-199-bec0edc97eb5>:3: SettingWithCopyWarning:\n",
            "\n",
            "\n",
            "A value is trying to be set on a copy of a slice from a DataFrame.\n",
            "Try using .loc[row_indexer,col_indexer] = value instead\n",
            "\n",
            "See the caveats in the documentation: https://pandas.pydata.org/pandas-docs/stable/user_guide/indexing.html#returning-a-view-versus-a-copy\n",
            "\n",
            "<ipython-input-199-bec0edc97eb5>:4: SettingWithCopyWarning:\n",
            "\n",
            "\n",
            "A value is trying to be set on a copy of a slice from a DataFrame.\n",
            "Try using .loc[row_indexer,col_indexer] = value instead\n",
            "\n",
            "See the caveats in the documentation: https://pandas.pydata.org/pandas-docs/stable/user_guide/indexing.html#returning-a-view-versus-a-copy\n",
            "\n",
            "<ipython-input-199-bec0edc97eb5>:5: SettingWithCopyWarning:\n",
            "\n",
            "\n",
            "A value is trying to be set on a copy of a slice from a DataFrame.\n",
            "Try using .loc[row_indexer,col_indexer] = value instead\n",
            "\n",
            "See the caveats in the documentation: https://pandas.pydata.org/pandas-docs/stable/user_guide/indexing.html#returning-a-view-versus-a-copy\n",
            "\n"
          ]
        }
      ]
    },
    {
      "cell_type": "code",
      "source": [
        "fig = px.scatter_3d(meta, x='x', y='y',z='z', hover_data=['label'])\n",
        "fig.show()"
      ],
      "metadata": {
        "colab": {
          "base_uri": "https://localhost:8080/",
          "height": 542
        },
        "id": "Z93nWQqO3u5u",
        "outputId": "ee74727c-9002-4cd7-b36e-9fabbaa692bd"
      },
      "execution_count": 200,
      "outputs": [
        {
          "output_type": "display_data",
          "data": {
            "text/html": [
              "<html>\n",
              "<head><meta charset=\"utf-8\" /></head>\n",
              "<body>\n",
              "    <div>            <script src=\"https://cdnjs.cloudflare.com/ajax/libs/mathjax/2.7.5/MathJax.js?config=TeX-AMS-MML_SVG\"></script><script type=\"text/javascript\">if (window.MathJax && window.MathJax.Hub && window.MathJax.Hub.Config) {window.MathJax.Hub.Config({SVG: {font: \"STIX-Web\"}});}</script>                <script type=\"text/javascript\">window.PlotlyConfig = {MathJaxConfig: 'local'};</script>\n",
              "        <script charset=\"utf-8\" src=\"https://cdn.plot.ly/plotly-2.24.1.min.js\"></script>                <div id=\"601d1ed9-b189-41be-ae98-d4dd108210dc\" class=\"plotly-graph-div\" style=\"height:525px; width:100%;\"></div>            <script type=\"text/javascript\">                                    window.PLOTLYENV=window.PLOTLYENV || {};                                    if (document.getElementById(\"601d1ed9-b189-41be-ae98-d4dd108210dc\")) {                    Plotly.newPlot(                        \"601d1ed9-b189-41be-ae98-d4dd108210dc\",                        [{\"customdata\":[[\"\\u003coov\\u003e\"],[\"to\"],[\"of\"],[\"the\"],[\"in\"],[\"for\"],[\"a\"],[\"on\"],[\"and\"],[\"with\"],[\"is\"],[\"new\"],[\"trump\"],[\"man\"],[\"from\"],[\"at\"],[\"about\"],[\"you\"],[\"this\"],[\"by\"],[\"after\"],[\"up\"],[\"out\"],[\"be\"],[\"how\"],[\"as\"],[\"it\"],[\"that\"],[\"not\"],[\"are\"],[\"your\"],[\"his\"],[\"what\"],[\"he\"],[\"all\"],[\"just\"],[\"who\"],[\"has\"],[\"will\"],[\"more\"],[\"one\"],[\"into\"],[\"report\"],[\"year\"],[\"why\"],[\"have\"],[\"area\"],[\"over\"],[\"donald\"],[\"u\"],[\"day\"],[\"says\"],[\"s\"],[\"can\"],[\"first\"],[\"woman\"],[\"time\"],[\"like\"],[\"her\"],[\"trump's\"],[\"old\"],[\"no\"],[\"get\"],[\"off\"],[\"an\"],[\"life\"],[\"people\"],[\"obama\"],[\"now\"],[\"house\"],[\"still\"],[\"'\"],[\"women\"],[\"make\"],[\"was\"],[\"than\"],[\"white\"],[\"back\"],[\"my\"],[\"i\"],[\"clinton\"],[\"down\"],[\"if\"],[\"5\"],[\"when\"],[\"world\"],[\"could\"],[\"we\"],[\"their\"],[\"before\"],[\"americans\"],[\"way\"],[\"do\"],[\"family\"],[\"most\"],[\"gop\"],[\"they\"],[\"study\"],[\"school\"],[\"it's\"],[\"black\"],[\"best\"],[\"years\"],[\"bill\"],[\"should\"],[\"3\"],[\"him\"],[\"would\"],[\"so\"],[\"police\"],[\"only\"],[\"watch\"],[\"american\"],[\"really\"],[\"being\"],[\"but\"],[\"last\"],[\"know\"],[\"10\"],[\"can't\"],[\"death\"],[\"home\"],[\"during\"],[\"video\"],[\"finds\"],[\"state\"],[\"or\"],[\"president\"],[\"health\"],[\"going\"],[\"say\"],[\"show\"],[\"nation\"],[\"good\"],[\"things\"],[\"hillary\"],[\"'the\"],[\"may\"],[\"2\"],[\"against\"],[\"campaign\"],[\"every\"],[\"she\"],[\"love\"],[\"mom\"],[\"need\"],[\"big\"],[\"right\"],[\"party\"],[\"gets\"],[\"000\"],[\"too\"],[\"getting\"],[\"these\"],[\"kids\"],[\"some\"],[\"parents\"],[\"work\"],[\"court\"],[\"little\"],[\"change\"],[\"take\"],[\"high\"],[\"makes\"],[\"self\"],[\"our\"],[\"calls\"],[\"john\"],[\"other\"],[\"news\"],[\"through\"],[\"doesn't\"],[\"while\"],[\"here's\"],[\"never\"],[\"child\"],[\"gay\"],[\"dead\"],[\"look\"],[\"election\"],[\"want\"],[\"own\"],[\"4\"],[\"don't\"],[\"see\"],[\"takes\"],[\"america\"],[\"7\"],[\"local\"],[\"real\"],[\"where\"],[\"next\"],[\"stop\"],[\"even\"],[\"its\"],[\"he's\"],[\"war\"],[\"college\"],[\"go\"],[\"6\"],[\"nation's\"],[\"sex\"],[\"bush\"],[\"made\"],[\"plan\"],[\"office\"],[\"again\"],[\"guy\"],[\"two\"],[\"dad\"],[\"another\"],[\"around\"],[\"dog\"],[\"got\"],[\"1\"],[\"million\"],[\"ever\"],[\"week\"],[\"baby\"],[\"debate\"],[\"thing\"],[\"them\"],[\"gun\"],[\"wants\"],[\"care\"],[\"us\"],[\"help\"],[\"much\"],[\"long\"],[\"night\"],[\"congress\"],[\"job\"],[\"finally\"],[\"north\"],[\"been\"],[\"under\"],[\"man's\"],[\"actually\"],[\"star\"],[\"national\"],[\"live\"],[\"climate\"],[\"season\"],[\"money\"],[\"couple\"],[\"won't\"],[\"8\"],[\"9\"],[\"top\"],[\"god\"],[\"anti\"],[\"media\"],[\"food\"],[\"ways\"],[\"20\"],[\"shows\"],[\"sexual\"],[\"better\"],[\"give\"],[\"shooting\"],[\"had\"],[\"teen\"],[\"face\"],[\"making\"],[\"game\"],[\"paul\"],[\"reveals\"],[\"me\"],[\"trying\"],[\"senate\"],[\"supreme\"],[\"announces\"],[\"there\"],[\"away\"],[\"men\"],[\"history\"],[\"business\"],[\"bad\"],[\"without\"],[\"students\"],[\"everyone\"],[\"attack\"],[\"end\"],[\"story\"],[\"fight\"],[\"facebook\"],[\"son\"],[\"free\"],[\"children\"],[\"enough\"],[\"tv\"],[\"law\"],[\"movie\"],[\"city\"],[\"any\"],[\"introduces\"],[\"pope\"],[\"deal\"],[\"government\"],[\"body\"],[\"part\"],[\"york\"],[\"11\"],[\"tell\"],[\"great\"],[\"film\"],[\"does\"],[\"former\"],[\"single\"],[\"entire\"],[\"friends\"],[\"fire\"],[\"call\"],[\"found\"],[\"friend\"],[\"book\"],[\"wedding\"],[\"think\"],[\"come\"],[\"republican\"],[\"must\"],[\"girl\"],[\"find\"],[\"second\"],[\"middle\"],[\"morning\"],[\"support\"],[\"same\"],[\"speech\"],[\"public\"],[\"photos\"],[\"use\"],[\"talk\"],[\"line\"],[\"car\"],[\"sanders\"],[\"name\"],[\"keep\"],[\"thinks\"],[\"run\"],[\"already\"],[\"looking\"],[\"presidential\"],[\"coming\"],[\"james\"],[\"republicans\"],[\"email\"],[\"didn't\"],[\"tax\"],[\"pretty\"],[\"case\"],[\"company\"],[\"behind\"],[\"rights\"],[\"power\"],[\"open\"],[\"future\"],[\"marriage\"],[\"between\"],[\"releases\"],[\"violence\"],[\"christmas\"],[\"security\"],[\"2016\"],[\"world's\"],[\"used\"],[\"human\"],[\"killed\"],[\"voters\"],[\"once\"],[\"control\"],[\"goes\"],[\"group\"],[\"vote\"],[\"win\"],[\"might\"],[\"democrats\"],[\"student\"],[\"full\"],[\"something\"],[\"doing\"],[\"secret\"],[\"asks\"],[\"fans\"],[\"12\"],[\"having\"],[\"team\"],[\"bernie\"],[\"department\"],[\"twitter\"],[\"room\"],[\"ban\"],[\"ad\"],[\"because\"],[\"poll\"],[\"teacher\"],[\"female\"],[\"post\"],[\"each\"],[\"wife\"],[\"inside\"],[\"ryan\"],[\"sure\"],[\"race\"],[\"claims\"],[\"music\"],[\"three\"],[\"meet\"],[\"record\"],[\"art\"],[\"forced\"],[\"boy\"],[\"15\"],[\"missing\"],[\"many\"],[\"political\"],[\"unveils\"],[\"perfect\"],[\"head\"],[\"super\"],[\"very\"],[\"photo\"],[\"judge\"],[\"running\"],[\"reports\"],[\"red\"],[\"father\"],[\"save\"],[\"class\"],[\"scientists\"],[\"month\"],[\"plans\"],[\"days\"],[\"country\"],[\"person\"],[\"living\"],[\"tells\"],[\"social\"],[\"minutes\"],[\"put\"],[\"summer\"],[\"everything\"],[\"dies\"],[\"california\"],[\"always\"],[\"until\"],[\"obamacare\"],[\"states\"],[\"here\"],[\"pay\"],[\"ready\"],[\"texas\"],[\"were\"],[\"michael\"],[\"looks\"],[\"employee\"],[\"talks\"],[\"candidate\"],[\"needs\"],[\"did\"],[\"eating\"],[\"working\"],[\"water\"],[\"list\"],[\"justice\"],[\"secretary\"],[\"shot\"],[\"hot\"],[\"warns\"],[\"times\"],[\"comes\"],[\"past\"],[\"admits\"],[\"set\"],[\"start\"],[\"taking\"],[\"wall\"],[\"heart\"],[\"ceo\"],[\"ex\"],[\"thought\"],[\"'i\"],[\"lives\"],[\"age\"],[\"left\"],[\"mike\"],[\"mother\"],[\"town\"],[\"gives\"],[\"30\"],[\"let\"],[\"cruz\"],[\"women's\"],[\"kim\"],[\"russia\"],[\"idea\"],[\"drug\"],[\"chief\"],[\"phone\"],[\"you're\"],[\"cancer\"],[\"george\"],[\"crisis\"],[\"service\"],[\"biden\"],[\"wins\"],[\"hours\"],[\"i'm\"],[\"letter\"],[\"wrong\"],[\"tips\"],[\"meeting\"],[\"south\"],[\"korea\"],[\"lost\"],[\"breaking\"],[\"daughter\"],[\"air\"],[\"50\"],[\"probably\"],[\"young\"],[\"fbi\"],[\"street\"],[\"dream\"],[\"percent\"],[\"yet\"],[\"education\"],[\"isis\"],[\"romney\"],[\"word\"],[\"thousands\"],[\"restaurant\"],[\"small\"],[\"nuclear\"],[\"fucking\"],[\"kill\"],[\"today\"],[\"believe\"],[\"king\"],[\"tweets\"],[\"together\"],[\"half\"],[\"someone\"],[\"ted\"],[\"hard\"],[\"questions\"],[\"military\"],[\"march\"],[\"she's\"],[\"few\"],[\"administration\"],[\"owner\"],[\"feel\"],[\"cat\"],[\"leaves\"],[\"fan\"],[\"internet\"],[\"officials\"],[\"third\"],[\"talking\"],[\"nothing\"],[\"director\"],[\"federal\"],[\"sleep\"],[\"chris\"],[\"rock\"],[\"place\"],[\"what's\"],[\"washington\"],[\"guide\"],[\"online\"],[\"attacks\"],[\"muslim\"],[\"earth\"],[\"giving\"],[\"move\"],[\"lot\"],[\"florida\"],[\"ask\"],[\"iran\"],[\"latest\"],[\"series\"],[\"holiday\"],[\"congressman\"],[\"community\"],[\"abortion\"],[\"well\"],[\"order\"],[\"buy\"],[\"personal\"],[\"less\"],[\"months\"],[\"majority\"],[\"birthday\"],[\"hour\"],[\"t\"],[\"prison\"],[\"2015\"],[\"democratic\"],[\"outside\"],[\"problem\"],[\"leave\"],[\"assault\"],[\"those\"],[\"shit\"],[\"travel\"],[\"hollywood\"],[\"wearing\"],[\"beautiful\"],[\"girlfriend\"],[\"isn't\"],[\"ice\"],[\"reason\"],[\"bar\"],[\"francis\"],[\"told\"],[\"different\"],[\"favorite\"],[\"issues\"],[\"cover\"],[\"rules\"],[\"rise\"],[\"happy\"],[\"fox\"],[\"fun\"],[\"special\"],[\"mark\"],[\"system\"],[\"read\"],[\"watching\"],[\"reasons\"],[\"girls\"],[\"straight\"],[\"play\"],[\"america's\"],[\"al\"],[\"celebrates\"],[\"obama's\"],[\"minute\"],[\"thinking\"],[\"hate\"],[\"excited\"],[\"relationship\"],[\"trip\"],[\"hit\"],[\"response\"],[\"huffpost\"],[\"knows\"],[\"russian\"],[\"immigration\"],[\"protest\"],[\"scott\"],[\"following\"],[\"100\"],[\"using\"],[\"offers\"],[\"front\"],[\"message\"],[\"trailer\"],[\"stars\"],[\"leaders\"],[\"visit\"],[\"stephen\"],[\"hair\"],[\"huge\"],[\"box\"],[\"gift\"],[\"david\"],[\"union\"],[\"kind\"],[\"kid\"],[\"since\"],[\"moment\"],[\"china\"],[\"chinese\"],[\"birth\"],[\"non\"],[\"cop\"],[\"store\"],[\"lessons\"],[\"late\"],[\"hope\"],[\"accused\"],[\"taylor\"],[\"date\"],[\"career\"],[\"interview\"],[\"himself\"],[\"politics\"],[\"weekend\"],[\"called\"],[\"early\"],[\"victims\"],[\"least\"],[\"bring\"],[\"senator\"],[\"whole\"],[\"tom\"],[\"conversation\"],[\"adorable\"],[\"waiting\"],[\"jimmy\"],[\"break\"],[\"sports\"],[\"syria\"],[\"powerful\"],[\"drunk\"],[\"c\"],[\"point\"],[\"united\"],[\"leader\"],[\"anything\"],[\"become\"],[\"investigation\"],[\"opens\"],[\"learned\"],[\"words\"],[\"millions\"],[\"k\"],[\"die\"],[\"fashion\"],[\"cops\"],[\"they're\"],[\"reality\"],[\"billion\"],[\"fall\"],[\"key\"],[\"true\"],[\"host\"],[\"returns\"],[\"joe\"],[\"totally\"],[\"syrian\"],[\"killing\"],[\"massive\"],[\"40\"],[\"almost\"],[\"turn\"],[\"breaks\"],[\"driving\"],[\"mass\"],[\"global\"],[\"dating\"],[\"far\"],[\"policy\"],[\"schools\"],[\"stand\"],[\"trans\"],[\"dinner\"],[\"oil\"],[\"apple\"],[\"un\"],[\"awards\"],[\"queer\"],[\"worried\"],[\"kills\"],[\"iraq\"],[\"low\"],[\"song\"],[\"dance\"],[\"turns\"],[\"puts\"],[\"spends\"],[\"stage\"],[\"sign\"],[\"candidates\"],[\"j\"],[\"vows\"],[\"risk\"],[\"bus\"],[\"names\"],[\"final\"],[\"planned\"],[\"feels\"],[\"anniversary\"],[\"lgbt\"],[\"signs\"],[\"jr\"],[\"murder\"],[\"seen\"],[\"prince\"],[\"reportedly\"],[\"hits\"],[\"light\"],[\"sick\"],[\"adds\"],[\"crash\"],[\"d\"],[\"worst\"],[\"surprise\"],[\"hands\"],[\"near\"],[\"transgender\"],[\"weird\"],[\"nfl\"],[\"return\"],[\"moving\"],[\"there's\"],[\"pence\"],[\"mind\"],[\"center\"],[\"decision\"],[\"longer\"],[\"workers\"],[\"advice\"],[\"worth\"],[\"eat\"],[\"struggling\"],[\"discover\"],[\"oscar\"],[\"across\"],[\"style\"],[\"kardashian\"],[\"employees\"],[\"test\"],[\"13\"],[\"cut\"],[\"keeps\"],[\"band\"],[\"industry\"],[\"experience\"],[\"side\"],[\"coffee\"],[\"check\"],[\"2014\"],[\"number\"],[\"rubio\"],[\"brings\"],[\"door\"],[\"lead\"],[\"five\"],[\"completely\"],[\"hoping\"],[\"hand\"],[\"university\"],[\"2017\"],[\"official\"],[\"starting\"],[\"lose\"],[\"whether\"],[\"force\"],[\"paris\"],[\"weight\"],[\"road\"],[\"space\"],[\"west\"],[\"audience\"],[\"important\"],[\"steve\"],[\"playing\"],[\"reform\"],[\"cool\"],[\"fighting\"],[\"suspect\"],[\"given\"],[\"defense\"],[\"program\"],[\"artist\"],[\"nyc\"],[\"williams\"],[\"role\"],[\"building\"],[\"michelle\"],[\"peace\"],[\"carolina\"],[\"remember\"],[\"chicago\"],[\"act\"],[\"pro\"],[\"possible\"],[\"apartment\"],[\"governor\"],[\"iowa\"],[\"executive\"],[\"success\"],[\"data\"],[\"chance\"],[\"ferguson\"],[\"amazon\"],[\"biggest\"],[\"protesters\"],[\"suicide\"],[\"hall\"],[\"abuse\"],[\"which\"],[\"clearly\"],[\"major\"],[\"push\"],[\"hurricane\"],[\"moore\"],[\"allegations\"],[\"halloween\"],[\"oscars\"],[\"homeless\"],[\"israel\"],[\"general\"],[\"mental\"],[\"coworker\"],[\"moms\"],[\"board\"],[\"close\"],[\"magazine\"],[\"question\"],[\"ben\"],[\"hear\"],[\"demands\"],[\"fear\"],[\"wishes\"],[\"opening\"],[\"members\"],[\"celebrate\"],[\"supporters\"],[\"google\"],[\"football\"],[\"voice\"],[\"easy\"],[\"teens\"],[\"card\"],[\"kerry\"],[\"wait\"],[\"try\"],[\"throws\"],[\"tour\"],[\"pregnant\"],[\"pizza\"],[\"dying\"],[\"press\"],[\"chicken\"],[\"urges\"],[\"reveal\"],[\"simple\"],[\"green\"],[\"economy\"],[\"problems\"],[\"culture\"],[\"lgbtq\"],[\"asking\"],[\"ebola\"],[\"robert\"],[\"learn\"],[\"performance\"],[\"album\"],[\"church\"],[\"begins\"],[\"officer\"],[\"shop\"],[\"poor\"],[\"uses\"],[\"plane\"],[\"families\"],[\"harassment\"],[\"picture\"],[\"jobs\"],[\"fails\"],[\"sean\"],[\"voter\"],[\"beauty\"],[\"demand\"],[\"doctor\"],[\"we're\"],[\"spot\"],[\"shares\"],[\"leads\"],[\"hilarious\"],[\"suggests\"],[\"rally\"],[\"results\"],[\"ideas\"],[\"18\"],[\"jenner\"],[\"arrested\"],[\"male\"],[\"fuck\"],[\"leaving\"],[\"address\"],[\"rest\"],[\"receives\"],[\"amid\"],[\"epa\"],[\"deadly\"],[\"netflix\"],[\"desperate\"],[\"planet\"],[\"cnn\"],[\"marijuana\"],[\"quietly\"],[\"action\"],[\"website\"],[\"pick\"],[\"explains\"],[\"table\"],[\"energy\"],[\"users\"],[\"feeling\"],[\"sales\"],[\"colbert\"],[\"apparently\"],[\"let's\"],[\"amazing\"]],\"hovertemplate\":\"x=%{x}\\u003cbr\\u003ey=%{y}\\u003cbr\\u003ez=%{z}\\u003cbr\\u003elabel=%{customdata[0]}\\u003cextra\\u003e\\u003c\\u002fextra\\u003e\",\"legendgroup\":\"\",\"marker\":{\"color\":\"#636efa\",\"symbol\":\"circle\"},\"mode\":\"markers\",\"name\":\"\",\"scene\":\"scene\",\"showlegend\":false,\"x\":[2.178178310394287,-1.8286612033843994,17.274749755859375,-34.33462905883789,-5.809112071990967,-6.782069683074951,-33.65591812133789,-4.762881278991699,-33.992000579833984,-2.961655855178833,-35.72807693481445,7.476681232452393,-27.092571258544922,21.651002883911133,-6.987376689910889,-11.48221492767334,3.5556230545043945,-16.45619010925293,-19.831737518310547,15.95736312866211,-12.540431022644043,5.730809211730957,2.077930450439453,11.780330657958984,-12.426033973693848,11.31131362915039,7.534010887145996,-1.1229639053344727,1.77604079246521,-28.070405960083008,-34.66237258911133,-16.804058074951172,2.2056021690368652,3.483140707015991,18.18610382080078,13.581804275512695,-12.773374557495117,9.798211097717285,-7.516055583953857,2.3067305088043213,0.9995312094688416,19.737756729125977,-2.970222234725952,13.692737579345703,-12.380545616149902,-6.820122718811035,36.26389694213867,-14.852667808532715,-35.359249114990234,8.930618286132812,1.050727128982544,-27.70524787902832,-6.343149185180664,-7.381811141967773,5.250720024108887,23.11695671081543,17.105350494384766,13.844552993774414,-27.124448776245117,-38.2510871887207,11.719759941101074,-2.553351879119873,3.3607051372528076,7.515979766845703,-39.174163818359375,9.438262939453125,-13.060185432434082,-3.7888741493225098,27.60713768005371,13.389806747436523,5.236781120300293,17.697799682617188,-18.917051315307617,-10.251104354858398,-23.275510787963867,-27.980295181274414,2.4982452392578125,12.403517723083496,-30.29397964477539,-22.3718318939209,1.382150650024414,9.005846977233887,1.9694690704345703,-9.173209190368652,-5.800160884857178,-3.311215400695801,-32.71355056762695,-34.650108337402344,-23.887859344482422,11.892066955566406,10.697442054748535,17.677688598632812,-6.226498126983643,18.800960540771484,12.752195358276367,-29.286487579345703,18.069679260253906,-3.8225574493408203,-9.030492782592773,-16.11528968811035,-13.240947723388672,4.785640716552734,-5.456014633178711,-16.762239456176758,-19.6163272857666,-0.7585631012916565,8.647050857543945,16.569368362426758,-5.955572128295898,-29.108034133911133,35.45354461669922,-10.86662483215332,4.712261199951172,17.278385162353516,2.557717800140381,-24.35074234008789,14.031963348388672,16.05646324157715,-8.837667465209961,4.1725640296936035,-6.907774448394775,10.723771095275879,19.6276798248291,-16.121673583984375,2.6868038177490234,9.364595413208008,-21.34933090209961,1.068839430809021,-25.1947021484375,21.80232810974121,-25.312942504882812,7.021181106567383,38.6478271484375,28.559371948242188,-0.7392831444740295,-31.0113582611084,-1.9943549633026123,-24.786834716796875,2.5082311630249023,-7.7506208419799805,-3.3516201972961426,16.08098602294922,-2.531245231628418,-13.895874977111816,3.7266111373901367,-35.55713653564453,-5.8357720375061035,7.862637996673584,22.090808868408203,-0.679682731628418,16.017969131469727,-6.293653964996338,-1.7795937061309814,-39.542659759521484,-11.835515975952148,5.393088340759277,-11.642815589904785,16.399564743041992,-7.249299049377441,24.35157012939453,-17.81951332092285,-5.26725959777832,9.57239055633545,-0.918108344078064,34.30907440185547,-27.575674057006836,-16.48126983642578,17.73003387451172,23.064258575439453,0.728442370891571,10.180221557617188,-8.911660194396973,-10.86663818359375,-42.28073501586914,17.78107452392578,30.050750732421875,-16.56272315979004,0.9382501244544983,9.97607135772705,-21.46372413635254,-27.64642333984375,13.683113098144531,-8.231060981750488,-16.319929122924805,15.348309516906738,-3.8916378021240234,-16.118789672851562,-18.017345428466797,35.731727600097656,2.8280696868896484,10.664800643920898,-8.94184398651123,-3.949747085571289,8.541053771972656,-17.91424560546875,20.948274612426758,1.8809539079666138,-12.859309196472168,8.364700317382812,-7.3465046882629395,37.93449783325195,-15.495342254638672,-3.195554494857788,-2.92069935798645,38.42277145385742,17.02500343322754,2.07838773727417,37.06547164916992,-0.06726647168397903,9.937003135681152,5.551550388336182,30.621299743652344,7.172060012817383,-23.0867919921875,-23.052066802978516,-12.181458473205566,-14.013589859008789,19.32938575744629,-16.713354110717773,16.24752426147461,23.193553924560547,8.95146656036377,-20.781902313232422,-8.172656059265137,-22.72027015686035,-24.55480194091797,-20.96990966796875,7.122932434082031,12.859308242797852,0.30725857615470886,-5.945244789123535,28.536705017089844,4.877033233642578,-20.93527603149414,-3.054745674133301,5.86067008972168,27.15458869934082,23.368885040283203,-9.615235328674316,23.32996940612793,-1.4113678932189941,-31.666086196899414,8.758017539978027,21.840497970581055,10.248955726623535,-29.89420509338379,16.853899002075195,-9.869096755981445,4.947578430175781,28.988420486450195,-22.43543243408203,-16.02834701538086,9.571694374084473,-7.6038079261779785,2.230684518814087,-22.142597198486328,15.563231468200684,4.719553470611572,1.7101937532424927,-18.02585792541504,14.568840026855469,-21.726999282836914,-11.397462844848633,-4.535479545593262,18.779056549072266,5.972229480743408,-7.379846096038818,-32.56755828857422,15.236322402954102,-25.013669967651367,-0.09300081431865692,14.503372192382812,23.44017791748047,16.113727569580078,-24.415618896484375,-12.408544540405273,-19.679922103881836,-6.492595195770264,7.434375286102295,-19.91958999633789,19.08831214904785,-21.569189071655273,-12.08425235748291,-11.283543586730957,-4.222729682922363,8.275436401367188,20.17755126953125,-5.728038311004639,16.00806999206543,37.262428283691406,8.271722793579102,6.868205547332764,13.84087085723877,-5.552551746368408,23.21635627746582,20.666879653930664,-0.19410763680934906,-10.011478424072266,11.44265079498291,8.215198516845703,-7.354227542877197,-29.63775634765625,6.993076801300049,19.442516326904297,4.180688381195068,8.328709602355957,-12.861600875854492,-32.06169128417969,41.104557037353516,35.795997619628906,32.71590805053711,-6.397100925445557,11.281855583190918,-3.025512933731079,32.59089279174805,-9.247323036193848,-7.825132846832275,-4.739772319793701,8.005402565002441,-9.455744743347168,-15.848475456237793,-1.3398135900497437,18.745853424072266,21.922462463378906,26.290719985961914,28.832246780395508,-18.805328369140625,-8.23558521270752,16.341516494750977,-2.09881854057312,-32.84166717529297,5.552371978759766,10.25944709777832,30.503690719604492,-20.213232040405273,-13.74239730834961,3.4165847301483154,-9.433845520019531,10.301976203918457,-23.797252655029297,30.1137752532959,20.63266944885254,-15.233893394470215,6.349689960479736,-7.589780330657959,-35.734703063964844,-38.17375183105469,-5.243427276611328,-25.102994918823242,23.89350700378418,-3.8502042293548584,15.071805953979492,12.108895301818848,-31.726362228393555,-13.714216232299805,4.529805660247803,17.739416122436523,0.23251089453697205,22.668176651000977,10.528060913085938,-39.51689529418945,13.64065933227539,-25.154308319091797,-35.76236343383789,12.196202278137207,7.836637496948242,23.004222869873047,4.856037139892578,8.90285587310791,14.053998947143555,13.43432331085205,5.655054569244385,24.39150047302246,-2.8352019786834717,-32.35016632080078,-20.866756439208984,-22.894554138183594,2.931816339492798,16.061635971069336,20.771188735961914,23.653600692749023,2.008683443069458,20.69813346862793,-5.357998371124268,-14.68781852722168,31.00649642944336,-14.51347827911377,-14.639764785766602,38.02145767211914,-22.170982360839844,24.08586311340332,-33.56320571899414,10.003042221069336,-33.1591911315918,-9.491930961608887,25.4028377532959,-5.353039741516113,-9.323163032531738,22.240192413330078,31.934558868408203,21.457576751708984,-3.8001439571380615,10.199435234069824,-35.937015533447266,-9.038166046142578,-21.073810577392578,9.811348915100098,-17.075576782226562,-12.517687797546387,-7.660223960876465,19.01948356628418,-12.293207168579102,22.074249267578125,2.6270081996917725,-17.1538143157959,-7.2208099365234375,16.589988708496094,41.20281982421875,21.802892684936523,-24.26305389404297,-10.543338775634766,-25.0128116607666,-22.454519271850586,3.3501780033111572,24.607105255126953,-6.994402885437012,13.852838516235352,-26.074634552001953,17.879087448120117,20.971925735473633,22.87442970275879,-1.9102293252944946,-10.200943946838379,14.834318161010742,20.478069305419922,19.338748931884766,12.153489112854004,-16.083269119262695,28.450939178466797,13.641196250915527,-26.059703826904297,9.947505950927734,0.8342651724815369,-40.92926788330078,29.7788028717041,20.847318649291992,-29.924352645874023,-26.04649543762207,-11.870081901550293,-23.136306762695312,30.77833366394043,-11.770318031311035,-21.43792724609375,-16.99153709411621,-20.059476852416992,32.549442291259766,-30.883596420288086,18.82154655456543,5.574069023132324,-12.189691543579102,-28.245079040527344,13.30270004272461,11.43159008026123,29.322895050048828,-18.67456817626953,33.707496643066406,11.763726234436035,4.188501834869385,7.043490409851074,4.4064106941223145,34.22914123535156,24.204729080200195,26.762643814086914,-29.761314392089844,2.722311019897461,-0.9092048406600952,-13.547410011291504,-12.774884223937988,22.21321678161621,-34.62596130371094,11.676095962524414,12.86643123626709,-16.22265625,13.297895431518555,13.908370971679688,-11.913430213928223,20.39223289489746,33.058326721191406,1.417841911315918,18.163454055786133,0.3103141486644745,-16.845170974731445,-34.075706481933594,-10.398923873901367,-27.788665771484375,15.346620559692383,6.954185485839844,-18.20122528076172,25.523921966552734,-5.857452392578125,-14.4531831741333,13.500093460083008,-22.855932235717773,5.3699774742126465,-2.6193630695343018,-9.934879302978516,32.955814361572266,-35.20450210571289,-10.496803283691406,-12.057558059692383,-14.693798065185547,6.334096431732178,-15.669758796691895,4.136937618255615,36.07986068725586,23.263097763061523,-28.087810516357422,5.168365955352783,-23.14855194091797,22.21906852722168,12.159092903137207,-17.699979782104492,-2.40909743309021,27.185657501220703,28.654720306396484,3.7370502948760986,-28.183116912841797,-29.322805404663086,31.140419006347656,25.796634674072266,12.374417304992676,24.032997131347656,29.380205154418945,-3.0820703506469727,41.72298812866211,-12.068676948547363,26.54191780090332,33.27359390258789,-5.347959995269775,-33.045753479003906,16.33673667907715,13.485281944274902,15.041634559631348,17.383563995361328,17.547473907470703,-11.253230094909668,-5.967594146728516,-17.812191009521484,-19.7293643951416,39.53502655029297,8.934965133666992,32.67995834350586,3.7966487407684326,-17.75688934326172,14.243972778320312,20.85709571838379,-4.154616832733154,-20.719371795654297,30.58224105834961,3.8458614349365234,12.979218482971191,-14.152070999145508,-8.435006141662598,-7.651641368865967,-26.80176544189453,37.63252639770508,27.557083129882812,-25.642833709716797,-23.881017684936523,-41.02703857421875,28.11259651184082,-32.65338134765625,-29.87171745300293,3.5503978729248047,-21.02528190612793,-1.5813137292861938,28.48170280456543,-12.665657043457031,3.709350347518921,-4.773674964904785,30.662982940673828,-31.565452575683594,-19.81051254272461,6.393327713012695,-10.315372467041016,-8.980634689331055,28.527313232421875,17.274572372436523,-16.152732849121094,27.429866790771484,5.047320365905762,15.970176696777344,8.946147918701172,0.793156087398529,21.803178787231445,24.994569778442383,-22.537227630615234,-45.281307220458984,-35.677154541015625,20.685495376586914,12.820505142211914,-22.715709686279297,-13.759926795959473,2.7038869857788086,39.56147003173828,-5.7813897132873535,-20.3979434967041,7.80339241027832,16.902606964111328,-0.4995476305484772,-34.65221405029297,-11.072946548461914,-1.4695392847061157,42.221866607666016,-14.044986724853516,-5.236397743225098,35.03617477416992,27.064111709594727,35.83048629760742,-0.045572735369205475,-15.53580093383789,-35.51117706298828,11.974516868591309,-9.228167533874512,27.777114868164062,22.290889739990234,-10.097516059875488,18.25241470336914,-5.27956485748291,21.31703758239746,-20.010669708251953,-19.007600784301758,21.80649757385254,20.790987014770508,-18.000802993774414,8.618291854858398,-2.7411954402923584,-18.458553314208984,28.787763595581055,20.349946975708008,-23.114761352539062,33.13809585571289,31.82665252685547,27.205657958984375,11.664592742919922,-27.924503326416016,-39.550907135009766,8.082465171813965,-18.037487030029297,-39.203468322753906,-44.56867980957031,-20.441761016845703,26.327713012695312,-1.692064642906189,2.7347869873046875,-4.975790977478027,-12.854944229125977,-12.493291854858398,-32.51860809326172,-4.4984893798828125,-15.672036170959473,-2.0636956691741943,-3.9436159133911133,30.419429779052734,21.760107040405273,8.489799499511719,7.771443843841553,-12.030442237854004,5.501343250274658,30.77340316772461,21.94498634338379,16.493900299072266,-5.550306797027588,-28.953317642211914,12.890164375305176,4.366850852966309,6.246003150939941,-10.309688568115234,16.25408935546875,-36.24289321899414,24.774093627929688,-14.857744216918945,-40.00039291381836,-17.337539672851562,34.190086364746094,19.960535049438477,-12.844478607177734,-13.961402893066406,-18.257173538208008,25.28738021850586,29.465436935424805,31.909883499145508,12.497724533081055,36.44700241088867,-33.07791519165039,19.57335090637207,17.782901763916016,-13.837309837341309,3.9692232608795166,-28.678518295288086,12.755111694335938,-26.028060913085938,15.382304191589355,-7.071298122406006,-19.4578857421875,-21.672836303710938,6.668285369873047,-19.385841369628906,22.047359466552734,-9.638660430908203,-17.52439308166504,28.494741439819336,-8.56576919555664,-3.2609622478485107,12.018179893493652,-7.658022403717041,-24.178312301635742,-8.686511993408203,-29.184053421020508,2.9479846954345703,-1.7800720930099487,-27.938716888427734,-5.2722578048706055,-31.331300735473633,2.426215648651123,-29.466325759887695,-10.067243576049805,4.262094020843506,-0.7502713799476624,23.1313419342041,2.248828172683716,15.498213768005371,-27.487016677856445,-28.764373779296875,-4.451416492462158,-14.58194637298584,16.600187301635742,0.3565862476825714,-25.343067169189453,-11.0676908493042,16.355682373046875,-6.366946220397949,25.574111938476562,3.0405945777893066,-29.573932647705078,-32.941200256347656,5.5331220626831055,-40.82005310058594,24.29905891418457,5.093407154083252,-10.867545127868652,-2.4809534549713135,18.603240966796875,-39.200050354003906,19.3257999420166,-12.963065147399902,-6.9558634757995605,-1.6043411493301392,-18.06740951538086,5.5135650634765625,-6.383279800415039,14.529370307922363,14.550712585449219,1.046498417854309,-6.644909381866455,17.530576705932617,-20.011886596679688,2.4837725162506104,-21.844608306884766,27.482107162475586,22.439014434814453,-16.53713607788086,-33.87464904785156,35.00248336791992,19.8970947265625,-42.01041030883789,3.6707522869110107,-13.465795516967773,20.944372177124023,20.92818260192871,-11.68309497833252,-33.3491096496582,-13.528536796569824,14.636406898498535,3.749598503112793,6.82059907913208,-18.756803512573242,-4.326696395874023,-18.704139709472656,-21.58403205871582,22.203937530517578,-26.96796417236328,-42.451202392578125,19.53832244873047,-31.664669036865234,-24.22450828552246,9.117257118225098,-3.583404779434204,-8.484257698059082,-1.4452537298202515,29.62619400024414,14.215227127075195,28.296384811401367,-8.527482032775879,-17.829402923583984,31.663244247436523,23.132070541381836,23.658714294433594,15.887129783630371,3.5447545051574707,17.170976638793945,-11.430359840393066,-36.44496154785156,30.53043556213379,-4.182308197021484,-28.802396774291992,-7.871328830718994,4.831079959869385,33.10515213012695,17.880075454711914,25.469951629638672,-9.439432144165039,27.58014488220215,4.440927028656006,-32.950130462646484,11.58862590789795,-20.97211265563965,-4.928859233856201,-31.70523452758789,-5.204358100891113,1.3893623352050781,21.08814811706543,29.05251693725586,27.341903686523438,-33.45654296875,-34.80332565307617,-3.340765953063965,4.130350112915039,-27.57915496826172,22.971946716308594,-3.725442886352539,-19.45352554321289,8.723772048950195,-12.42077922821045,30.916034698486328,0.23515164852142334,38.93406295776367,6.761459827423096,-4.20749044418335,2.7910773754119873,-15.604879379272461,39.76936721801758,-14.417201042175293,-9.64067268371582,27.88149642944336,40.93505859375,23.829225540161133,-18.879499435424805,-21.953262329101562,-13.336475372314453,-14.636194229125977,18.90395164489746,-27.0118350982666,-24.867504119873047,-26.24970245361328,7.943706035614014,-11.05130386352539,-9.470586776733398,-18.080810546875,-17.59601402282715,33.75725555419922,-10.820212364196777,25.0178279876709,4.102328300476074,-7.505488395690918,-16.232257843017578,12.24643611907959,-23.47161102294922,-10.538084983825684,-13.207650184631348,-17.717260360717773,29.439973831176758,-4.029925346374512,-30.171588897705078,28.731184005737305,38.71293640136719,-8.7070894241333,-15.243027687072754,-14.86411190032959,-26.165958404541016,-11.616809844970703,-14.282251358032227,-12.606304168701172,-34.438507080078125,-27.396385192871094,13.672236442565918,-28.878711700439453,34.924163818359375,-40.72983169555664,12.775074005126953,-19.20386505126953,34.0262565612793,18.53745460510254,-7.817193984985352,13.024989128112793,28.648212432861328,24.297616958618164,26.58336639404297,5.783809661865234,18.865095138549805,3.0686473846435547,-9.707134246826172,-30.999574661254883,-17.79580307006836,21.03752899169922,-9.931745529174805,-4.9810943603515625,23.563976287841797,9.611576080322266,22.41464614868164,6.333465576171875,-3.725790500640869,13.810823440551758,-25.679738998413086,21.8656063079834,13.290102005004883,-18.142620086669922,21.954254150390625,17.10600471496582,8.688232421875,0.07228178530931473,-5.10645055770874,12.096731185913086,4.901679039001465,-9.685293197631836,-46.15222930908203,-16.092273712158203,-25.505733489990234,-12.13713264465332,11.311715126037598,-26.53913116455078,-12.618165016174316,-1.6675907373428345,3.910371780395508,-29.391252517700195,25.96013832092285,-0.5330602526664734,-8.657232284545898,-14.654746055603027,-24.46141815185547,6.21065616607666,21.40530014038086,15.789443016052246,10.559367179870605,-13.091347694396973,-22.902267456054688,-26.108856201171875,-18.008811950683594,19.834287643432617,-28.560049057006836,12.704183578491211,-44.4483757019043,13.900107383728027,-0.9512057304382324,0.6838164329528809,7.2198944091796875,13.082267761230469,-14.279218673706055,-6.125292778015137,-40.366493225097656,-28.49681854248047,10.820130348205566,38.24393081665039,-1.0342762470245361,-18.2125244140625,-1.3546350002288818,0.6140861511230469,-37.78007888793945,7.160222053527832,-14.786577224731445,-22.10532569885254,17.810937881469727,23.50320053100586,-6.815688133239746,-30.224475860595703,26.208820343017578,-16.46845245361328,27.258525848388672,-7.916475296020508,9.649404525756836,29.979209899902344,-1.9613457918167114,-12.254096031188965,20.504901885986328,-4.959300994873047,-32.179073333740234,37.5828971862793,-40.7452278137207,-22.261714935302734],\"y\":[0.31517115235328674,-9.690462112426758,-4.24233341217041,-3.6416242122650146,-13.662091255187988,-14.337074279785156,-0.571219265460968,-9.898780822753906,3.1375622749328613,-8.316171646118164,-5.043086528778076,3.3504621982574463,7.655925750732422,4.147810459136963,-18.00885581970215,-4.583655834197998,2.0009565353393555,0.07991455495357513,-6.760177135467529,4.123485088348389,1.2141615152359009,-5.367944240570068,0.8186513185501099,-4.251941680908203,-20.28618812561035,-7.991051197052002,-11.519949913024902,3.799205780029297,9.420780181884766,-10.286592483520508,-5.196413993835449,11.030248641967773,-19.327001571655273,-8.557579040527344,-3.472241163253784,-3.7882304191589355,-16.214427947998047,4.7289910316467285,-11.284008026123047,-7.837236404418945,-11.473542213439941,-9.505434036254883,21.85427474975586,14.000567436218262,-21.86075782775879,-12.153116226196289,3.792670726776123,-22.599609375,3.6866238117218018,6.838287353515625,-7.863146781921387,-11.871980667114258,1.837772250175476,-13.618688583374023,-5.249791622161865,1.3284584283828735,-5.0797929763793945,-7.826176643371582,1.4971879720687866,-4.177574157714844,5.4352827072143555,-1.1312446594238281,-9.610898971557617,20.286888122558594,-4.062052249908447,0.23298588395118713,0.19284369051456451,8.058595657348633,-0.3165191411972046,-20.722381591796875,-14.085652351379395,-16.9638729095459,-10.08727741241455,0.27547645568847656,-6.854030132293701,-7.700189590454102,3.0633320808410645,-3.3864569664001465,-9.913268089294434,-13.863744735717773,21.92184066772461,-7.370907306671143,-11.204984664916992,-25.88283920288086,-15.954256057739258,14.127991676330566,7.432555675506592,4.4610595703125,-2.578970193862915,3.352938413619995,-15.071762084960938,-0.7193870544433594,-18.743125915527344,17.338382720947266,-15.399474143981934,-3.4970858097076416,12.381607055664062,24.504886627197266,15.102692604064941,-19.52711296081543,-2.2312560081481934,-6.239887237548828,-1.7460740804672241,-24.020877838134766,-13.849824905395508,-16.626585006713867,-5.841909885406494,8.476107597351074,-5.500569820404053,9.447183609008789,2.549548625946045,-23.535938262939453,4.73928165435791,9.627531051635742,-14.803801536560059,9.32943058013916,3.1914572715759277,-7.551633834838867,-10.07812786102295,18.404691696166992,5.613699913024902,21.847379684448242,10.505858421325684,4.865487098693848,-0.17817184329032898,-12.290303230285645,-7.037846088409424,-15.59859848022461,2.5884995460510254,0.30244219303131104,16.596487045288086,10.253514289855957,3.624434471130371,-5.182618141174316,-19.943485260009766,9.4072904586792,5.41257381439209,-16.15052032470703,-7.264223575592041,-13.889817237854004,2.6772756576538086,-19.546646118164062,-12.177931785583496,21.745084762573242,16.058441162109375,-0.8619067668914795,-13.30925464630127,-13.494170188903809,-13.103728294372559,7.106505393981934,-2.7826435565948486,-8.384581565856934,-11.18785572052002,1.0766395330429077,-6.189936637878418,11.346525192260742,14.611790657043457,-2.990703821182251,2.238065719604492,-17.911890029907227,-0.04153013974428177,-21.919736862182617,6.13740873336792,16.152315139770508,-12.153193473815918,-13.835258483886719,-6.51939582824707,5.203771591186523,-0.38100337982177734,-3.6448817253112793,-10.275262832641602,8.167520523071289,-24.736675262451172,-7.702304363250732,10.176583290100098,6.248641490936279,17.4256649017334,7.289393901824951,-12.560921669006348,5.00985860824585,-15.165794372558594,-7.785085678100586,-11.59143352508545,12.034116744995117,-18.469932556152344,-1.2079133987426758,-6.010988712310791,-4.784823417663574,1.0416828393936157,19.579225540161133,-17.786043167114258,-7.751668930053711,-22.248022079467773,-13.840958595275879,-15.341052055358887,21.560880661010742,24.13938331604004,23.15949249267578,-11.598360061645508,-17.477195739746094,6.088172912597656,4.3899078369140625,27.052745819091797,-10.331061363220215,-1.585084319114685,2.3160111904144287,-3.5552587509155273,9.47590160369873,-13.140802383422852,12.429707527160645,0.6776347160339355,-11.38182258605957,-12.344476699829102,-1.4874563217163086,7.222499847412109,25.83496856689453,5.979689121246338,18.895471572875977,13.013517379760742,19.642526626586914,7.541477680206299,-3.090524673461914,-2.77459979057312,16.27649688720703,8.767559051513672,-1.392133355140686,3.7993040084838867,20.032672882080078,1.9832203388214111,15.594764709472656,4.78139066696167,-9.284929275512695,11.090901374816895,2.1462409496307373,10.159228324890137,5.780919075012207,-2.419008493423462,6.4659342765808105,6.923182487487793,-16.564773559570312,-16.417015075683594,1.1471352577209473,8.685729026794434,-15.904801368713379,4.003264904022217,10.860990524291992,-12.64159107208252,-7.630154132843018,-5.619858741760254,3.6656782627105713,-4.040854454040527,23.25574493408203,11.185723304748535,-8.016230583190918,-20.727535247802734,8.6633882522583,19.80636215209961,-7.541388034820557,5.056640625,-8.682657241821289,14.672914505004883,16.931224822998047,-18.507925033569336,-15.347349166870117,6.924074172973633,-12.138322830200195,7.570192337036133,-4.265396595001221,24.959699630737305,-5.819128036499023,-0.9784948825836182,6.431835174560547,-11.499194145202637,-17.02821922302246,0.27949076890945435,22.065149307250977,25.334964752197266,-3.5224530696868896,15.032683372497559,13.072542190551758,-16.137781143188477,-1.063476324081421,26.482311248779297,-10.621828079223633,-12.564448356628418,0.9625109434127808,-3.0182106494903564,-6.424807548522949,-12.710257530212402,-6.382557392120361,7.8586039543151855,24.992090225219727,11.436858177185059,16.05523681640625,-12.556763648986816,20.67633628845215,7.337412357330322,-9.688353538513184,22.750904083251953,7.119424343109131,-7.257327079772949,-2.8890140056610107,2.858560562133789,9.120820045471191,-1.1334471702575684,19.34063720703125,-16.73834800720215,-6.4513397216796875,-6.720824718475342,6.039600849151611,-5.096309185028076,0.3518518805503845,-15.591285705566406,-0.37941864132881165,3.057429790496826,-5.73390531539917,2.3737165927886963,3.004974365234375,-16.933500289916992,-18.274869918823242,-0.9241564869880676,11.039210319519043,-8.406305313110352,-14.959062576293945,11.366737365722656,-3.2211754322052,-7.842903137207031,5.622110843658447,2.2406229972839355,17.291982650756836,-11.436779022216797,11.759042739868164,15.886170387268066,17.7127685546875,13.504611015319824,-1.0631990432739258,19.346538543701172,-15.584158897399902,12.923832893371582,-19.7142333984375,-9.026021957397461,-13.286155700683594,-2.2905068397521973,-9.404927253723145,-1.5366278886795044,-4.5012664794921875,1.9148826599121094,0.08004295825958252,0.48398730158805847,-12.57967472076416,4.332552909851074,15.266780853271484,-22.184627532958984,12.666454315185547,-6.208786487579346,1.919557809829712,-11.029542922973633,-4.022900104522705,-20.733882904052734,8.386741638183594,4.958410739898682,1.2538074254989624,15.001988410949707,4.7610979080200195,0.5901654958724976,9.536847114562988,-14.212779998779297,13.81087875366211,-3.4618782997131348,-8.587273597717285,7.273403167724609,14.725164413452148,-3.7996480464935303,22.294105529785156,7.2241129875183105,5.544631481170654,-10.370549201965332,5.238025188446045,-10.801156997680664,-12.140140533447266,-0.5397666692733765,4.179775714874268,5.139744281768799,7.507036209106445,-14.55517578125,13.521373748779297,-2.4148061275482178,-24.789854049682617,-6.050106525421143,7.922222137451172,-6.9875946044921875,11.645660400390625,22.85042381286621,6.783207416534424,1.1663522720336914,24.668439865112305,-2.7920901775360107,14.655146598815918,8.204683303833008,11.464885711669922,-10.44469165802002,9.105462074279785,12.973925590515137,9.124853134155273,5.09837532043457,7.0717854499816895,-7.936521053314209,-9.409667015075684,-6.7452192306518555,10.305663108825684,21.607133865356445,-7.741220951080322,-5.6819610595703125,10.14307975769043,7.183951377868652,1.4826809167861938,12.576635360717773,-12.80312442779541,-17.732845306396484,-18.380887985229492,21.13639259338379,-1.3049160242080688,-0.005730706732720137,21.009422302246094,10.285369873046875,7.526077747344971,9.193756103515625,-10.241308212280273,-7.81796407699585,20.506690979003906,-10.015209197998047,7.001871109008789,-3.562284231185913,7.0005388259887695,14.090678215026855,-6.17405366897583,-20.30495834350586,8.869401931762695,-0.09986383467912674,-16.365707397460938,-14.736461639404297,8.114140510559082,-4.0567240715026855,7.337825775146484,-5.722189903259277,-10.300621032714844,1.9020946025848389,-4.445083141326904,-9.645328521728516,6.19719934463501,11.000277519226074,-12.124613761901855,5.274366855621338,6.692788124084473,9.288535118103027,12.65536117553711,13.751449584960938,-8.86690616607666,-3.21486759185791,-17.496173858642578,19.791732788085938,-11.121747016906738,-1.862557291984558,-9.916169166564941,11.013310432434082,4.805774211883545,-1.870419979095459,14.752862930297852,-9.845596313476562,-12.090264320373535,8.034842491149902,-15.300775527954102,-10.578998565673828,-4.210855960845947,-17.04412841796875,-9.118515968322754,2.120227336883545,21.653656005859375,17.816083908081055,2.710599660873413,9.704049110412598,16.601734161376953,15.82759952545166,1.3002780675888062,-17.563640594482422,-2.3992419242858887,-1.773269534111023,4.905779838562012,2.846346378326416,-4.626250267028809,-14.216697692871094,-14.430187225341797,5.309715747833252,-8.539929389953613,8.856785774230957,1.469545602798462,19.133132934570312,13.237285614013672,12.709159851074219,-24.448448181152344,20.850847244262695,-12.666181564331055,11.60396671295166,3.009979248046875,28.38904571533203,15.469210624694824,-5.954677581787109,2.1483097076416016,12.042682647705078,15.556471824645996,-8.045121192932129,-8.391060829162598,13.518658638000488,-11.516860008239746,-13.936412811279297,-2.899158239364624,12.20831298828125,-3.7019522190093994,1.8028597831726074,11.555370330810547,-10.87302017211914,10.465682983398438,-5.5524139404296875,15.917695999145508,-2.965001106262207,-3.1957855224609375,-2.819371223449707,1.0130479335784912,4.453975200653076,-11.756878852844238,4.334499835968018,4.405987739562988,-16.78695297241211,17.258331298828125,-2.5942676067352295,-17.368019104003906,-1.9500021934509277,-3.564157247543335,19.066072463989258,-8.884932518005371,19.435951232910156,-22.945329666137695,-15.406420707702637,7.919831275939941,11.38232421875,-15.613802909851074,26.014650344848633,3.1863913536071777,5.435086727142334,-4.906965732574463,-19.551259994506836,3.180095672607422,-0.44585832953453064,26.103271484375,24.604995727539062,15.243609428405762,-4.083427429199219,13.04499626159668,11.569557189941406,-21.236103057861328,6.331413745880127,-6.760127067565918,2.8153347969055176,4.422883987426758,4.482568740844727,0.6482322812080383,5.768998622894287,-7.954878330230713,-17.706098556518555,6.417496681213379,-18.958982467651367,-0.7950357794761658,0.79628986120224,8.805853843688965,13.296568870544434,0.9798170924186707,3.409341812133789,-16.655405044555664,-4.317471504211426,-4.663923263549805,-0.2868736982345581,-15.23968505859375,-1.6522296667099,-1.397196650505066,30.015113830566406,21.495981216430664,12.127127647399902,-9.820656776428223,20.924081802368164,2.3241422176361084,-15.638437271118164,17.680265426635742,-0.9051987528800964,15.883097648620605,10.200754165649414,18.485610961914062,1.3199877738952637,-0.8815734386444092,5.923436641693115,-17.527070999145508,16.214262008666992,-16.166955947875977,2.7663414478302,13.722555160522461,-2.7416555881500244,27.35477066040039,13.87215518951416,4.936614990234375,2.6446621417999268,22.584999084472656,-13.972657203674316,20.20844078063965,-2.6389756202697754,6.164101600646973,9.842411994934082,1.817736029624939,-9.946684837341309,-9.413358688354492,13.48055362701416,13.492870330810547,5.615668773651123,0.40240052342414856,-12.08980941772461,11.164335250854492,-5.261775016784668,-8.296287536621094,-7.020371913909912,13.478181838989258,-23.009410858154297,-1.7677470445632935,-10.652987480163574,-13.824125289916992,-16.24480628967285,16.994487762451172,5.7188191413879395,10.538951873779297,18.717304229736328,8.944822311401367,-13.262323379516602,15.539891242980957,17.445756912231445,10.439014434814453,7.846768856048584,12.001687049865723,-25.076078414916992,-1.1968300342559814,1.7916778326034546,6.284319877624512,2.399681329727173,3.8794820308685303,-4.492978096008301,-17.514768600463867,-4.165123462677002,-18.957571029663086,-13.500499725341797,-4.0550079345703125,-25.930572509765625,15.039910316467285,-0.4850784242153168,8.570098876953125,-7.703151702880859,-10.92965316772461,-1.3290579319000244,-0.7424929141998291,2.797184944152832,7.298268795013428,16.58812141418457,1.0050194263458252,-5.443088531494141,8.026941299438477,-2.9461123943328857,-4.819118976593018,25.317296981811523,-9.615768432617188,11.086249351501465,14.696972846984863,-15.822208404541016,2.5026817321777344,24.069658279418945,-2.382768392562866,16.231639862060547,19.891557693481445,-4.055588245391846,-11.476072311401367,10.380741119384766,-10.439641952514648,-19.643844604492188,4.211926460266113,-18.16693878173828,1.3304133415222168,-5.011070251464844,6.384859085083008,2.7686991691589355,-9.234235763549805,5.287784576416016,2.6555144786834717,-10.674468040466309,14.807706832885742,-2.9853265285491943,-6.166661262512207,-0.6716565489768982,-8.951476097106934,6.921446323394775,17.790355682373047,-7.0073561668396,7.581802845001221,10.371006965637207,-20.868797302246094,16.76351547241211,-17.224214553833008,5.818988800048828,-9.359619140625,-18.46673583984375,14.541586875915527,0.129020094871521,25.742612838745117,-16.079694747924805,5.829527378082275,-9.518797874450684,-18.360456466674805,3.278822183609009,4.066070079803467,-14.64653491973877,12.068520545959473,13.39929485321045,-9.16330337524414,-21.672666549682617,9.150544166564941,0.10908589512109756,-3.872225761413574,-8.299243927001953,12.562993049621582,-7.436527729034424,16.870433807373047,-16.411401748657227,11.6898775100708,24.451509475708008,-17.332813262939453,17.17458152770996,26.001401901245117,-5.661695957183838,-24.22161865234375,9.021772384643555,-22.187488555908203,8.384284019470215,9.052350997924805,-17.779512405395508,-3.62221360206604,-1.4291960000991821,24.35068702697754,-0.2748943865299225,-6.332167625427246,7.949738502502441,-0.9103845953941345,24.424415588378906,-16.368345260620117,2.7272403240203857,1.4318662881851196,-25.71953582763672,21.89394760131836,-10.569754600524902,11.255045890808105,11.82831859588623,-3.193847179412842,8.449193000793457,20.741735458374023,-4.725168704986572,14.957226753234863,14.344761848449707,18.28484344482422,4.245584964752197,28.936168670654297,3.5380687713623047,14.420735359191895,-10.460148811340332,-0.650130033493042,-1.3681033849716187,-27.67781639099121,14.083864212036133,6.011183738708496,8.642847061157227,-9.747665405273438,-3.5814578533172607,-10.404184341430664,9.422375679016113,13.307514190673828,28.657392501831055,-16.888751983642578,-2.337122917175293,-17.123987197875977,21.643840789794922,3.949080228805542,-4.99081563949585,-18.410369873046875,4.647036552429199,9.344532012939453,-23.54252052307129,-23.302526473999023,21.844711303710938,-10.654840469360352,11.189227104187012,1.4828683137893677,-2.462186098098755,20.894887924194336,10.520180702209473,-4.003090858459473,-11.194729804992676,20.787139892578125,10.838101387023926,11.631266593933105,20.754724502563477,23.422962188720703,-9.522482872009277,7.871150493621826,-17.321924209594727,-6.090775012969971,-24.750518798828125,8.834957122802734,11.819140434265137,17.692502975463867,-2.9825522899627686,16.020309448242188,16.691261291503906,-16.842864990234375,0.040863215923309326,-7.137103080749512,3.7502708435058594,-7.652459621429443,-6.9454545974731445,-3.1403396129608154,-7.152071952819824,6.829784393310547,17.31838035583496,9.558897018432617,6.67515230178833,0.22848975658416748,-6.4733710289001465,-9.841665267944336,-19.31635856628418,-5.787470817565918,22.037765502929688,11.635101318359375,2.0334742069244385,-0.6583971977233887,13.831022262573242,-22.561403274536133,4.121156692504883,-13.652593612670898,7.22930383682251,-17.252323150634766,-5.186670780181885,-7.740194320678711,-10.1714448928833,-5.15988302230835,15.073692321777344,-10.336277961730957,-9.634847640991211,14.599109649658203,8.841723442077637,11.04793930053711,7.353825092315674,-15.495909690856934,-4.0388898849487305,-0.8195980787277222,10.951522827148438,20.531816482543945,5.0401811599731445,-27.39594268798828,-0.6707595586776733,-1.8087025880813599,-6.322537899017334,16.8321533203125,20.394758224487305,24.123605728149414,2.002556085586548,-16.888629913330078,-12.025299072265625,-13.186590194702148,-4.519333362579346,0.6716914772987366,3.4034154415130615,14.736309051513672,-24.098859786987305,4.754161834716797,8.176430702209473,0.22824114561080933,13.899565696716309,-17.778690338134766,16.261829376220703,9.62948989868164,12.11695384979248,9.556487083435059,-1.3718593120574951,5.695825576782227,-7.236660957336426,15.237360000610352,-12.721761703491211,9.811652183532715,-7.744902610778809,-13.87260627746582,-5.722379207611084,7.048471927642822,-12.802864074707031,14.328883171081543,-20.40904998779297,-8.17508602142334,-9.367830276489258,11.09906005859375,15.08633804321289,0.7496612668037415,-0.7291064262390137,7.874866962432861,-1.0551847219467163,-4.426473617553711,20.876779556274414,-26.27825164794922,-3.4826252460479736,10.750406265258789,-0.09826143085956573,11.920540809631348,-0.2542016804218292,7.947595119476318,18.443225860595703,9.754548072814941,-6.813549518585205,5.484827518463135,-1.4763658046722412,7.305109977722168,5.508460998535156,-2.7442169189453125,-7.231991291046143,10.757318496704102,-1.5346614122390747,-20.42534065246582,5.392000675201416,1.2256629467010498,-10.949507713317871,2.9425313472747803,2.0681796073913574,-2.160054922103882,4.573816299438477,-10.108426094055176,20.605073928833008,12.26004695892334,-1.4611268043518066,5.05673885345459,-3.3115885257720947,-22.399747848510742,13.423528671264648,1.060400128364563,9.43264389038086,11.060832977294922,-8.813031196594238,11.370534896850586,-8.566704750061035,11.66948413848877,-5.008838176727295,18.484384536743164,0.4660705029964447,-3.3997604846954346,-6.971016883850098,-1.7406421899795532,-4.296117782592773,-10.895174026489258,-6.6958112716674805,-6.557938098907471,13.125699043273926,5.494691371917725,-19.383153915405273,-5.503781318664551,-11.32493782043457,18.4668025970459,-2.5397002696990967,-15.764333724975586,20.274431228637695,-10.122057914733887,6.150721549987793,7.895277976989746,7.251241207122803,-14.717689514160156,10.801946640014648,2.890759229660034,-15.921741485595703,23.304738998413086,-1.6151233911514282,18.541996002197266,-8.753619194030762,-11.776054382324219,-16.533611297607422,8.98626708984375,7.023285865783691,9.832984924316406,-22.355968475341797,17.910106658935547,10.433850288391113,-7.981921672821045,-9.19282054901123,-1.648493766784668,17.7072811126709],\"z\":[-11.033710479736328,5.6409831047058105,1.3718754053115845,12.659423828125,9.996767044067383,7.356672763824463,14.71869945526123,10.019213676452637,-6.83420991897583,7.3707427978515625,8.912562370300293,-9.262145042419434,1.4952572584152222,-0.9086241126060486,11.280692100524902,4.260082721710205,2.5833845138549805,7.170782089233398,11.409952163696289,9.095280647277832,10.314438819885254,5.616682529449463,-15.2239990234375,9.770918846130371,13.667778968811035,16.589275360107422,11.96126651763916,-21.075481414794922,15.557077407836914,-10.412753105163574,-4.849360942840576,-7.2297682762146,9.640656471252441,-11.515300750732422,-1.7071573734283447,-13.79068374633789,1.0755499601364136,-0.44030943512916565,3.8243892192840576,-3.792844295501709,18.14335823059082,-14.852096557617188,-9.481263160705566,3.0076284408569336,16.95188331604004,-3.5653131008148193,-12.499512672424316,-0.2320728451013565,15.81331729888916,-5.623574733734131,-20.05213165283203,-13.66859245300293,7.095608711242676,14.321833610534668,-2.465726375579834,-5.430662155151367,13.382908821105957,-6.598354339599609,2.2499942779541016,4.75313663482666,9.933633804321289,-11.915026664733887,5.961623668670654,11.046174049377441,7.873995304107666,-12.366494178771973,-7.643904685974121,-9.295251846313477,8.865243911743164,11.854866981506348,18.19057273864746,7.502304553985596,7.644837856292725,-9.345497131347656,5.083078861236572,-6.459040641784668,-11.568136215209961,6.804328441619873,12.240147590637207,11.354256629943848,-10.484962463378906,-15.193629264831543,21.13424301147461,9.302774429321289,16.875652313232422,4.244729042053223,-2.517474889755249,7.9203200340271,1.8227630853652954,8.034425735473633,18.90723419189453,7.599587440490723,20.045886993408203,-1.5458859205245972,-2.1055402755737305,-6.95068359375,14.014749526977539,-8.62624454498291,-9.979754447937012,12.7864351272583,-16.839147567749023,7.811018466949463,-2.5870113372802734,-3.456700325012207,11.690739631652832,4.847269535064697,0.7096244096755981,-22.932918548583984,11.120560646057129,-6.230838775634766,-3.757727861404419,14.840497016906738,-16.370769500732422,-11.494504928588867,18.433725357055664,-9.490533828735352,-15.439594268798828,23.019243240356445,8.773124694824219,12.380647659301758,4.389558792114258,10.853704452514648,-12.627176284790039,12.323402404785156,7.286406517028809,-14.52567195892334,-3.8299317359924316,-8.081795692443848,-6.97043514251709,3.5661606788635254,10.587748527526855,-3.330730438232422,-10.941181182861328,7.122158527374268,-11.24792194366455,-0.4345930218696594,0.03516634926199913,-3.9865355491638184,9.286853790283203,-1.6343940496444702,-9.542881965637207,9.971457481384277,12.050926208496094,6.27971887588501,-5.568231582641602,-7.641199111938477,19.502241134643555,-7.111186981201172,7.2625041007995605,-8.038071632385254,5.97529411315918,16.49500846862793,16.223533630371094,14.058430671691895,-10.650345802307129,-16.225345611572266,-13.472622871398926,-4.103036403656006,11.408352851867676,9.178299903869629,-6.516439437866211,5.497580528259277,-10.754395484924316,7.898467540740967,-0.028642617166042328,-2.075119972229004,0.9327994585037231,-0.9506187438964844,13.397608757019043,6.075915813446045,5.827668190002441,8.577250480651855,-10.192900657653809,9.077452659606934,1.95452880859375,-13.982560157775879,-4.579922199249268,-15.986263275146484,12.87347412109375,-21.624128341674805,-6.970361232757568,3.590506076812744,0.6624652743339539,15.335440635681152,17.611730575561523,3.0037078857421875,-10.976908683776855,11.862406730651855,-6.259657859802246,-7.517513751983643,-2.1232612133026123,-19.540348052978516,16.98267936706543,20.31957244873047,-12.94609546661377,-12.169281005859375,-14.297956466674805,-13.997343063354492,3.5646462440490723,0.1631331741809845,-12.937407493591309,-7.507002353668213,-6.630589008331299,-6.068975925445557,4.966653823852539,-12.84119987487793,-20.959047317504883,-3.3535985946655273,-10.46386432647705,-13.431400299072266,-4.301971912384033,-2.0112767219543457,-15.409160614013672,13.059887886047363,16.485820770263672,6.789822578430176,2.13586688041687,-10.684653282165527,-15.242650985717773,-11.930217742919922,-6.173844337463379,2.610926866531372,-8.28321361541748,-18.367212295532227,-25.42902374267578,-1.9316787719726562,16.13961410522461,8.70479679107666,11.621362686157227,2.1349222660064697,-10.686017036437988,-0.7463318109512329,7.676611423492432,-11.426065444946289,-19.468732833862305,-0.02490447275340557,-10.956669807434082,3.8911309242248535,-5.8468475341796875,-5.537577152252197,-11.114516258239746,9.802297592163086,18.345661163330078,-10.762140274047852,-12.080092430114746,8.985309600830078,13.745665550231934,1.7012639045715332,0.2272496074438095,-10.840991973876953,5.952338695526123,5.2499847412109375,12.803825378417969,-23.371212005615234,11.920031547546387,-7.380317211151123,18.042272567749023,16.400217056274414,-6.774526596069336,-15.195164680480957,-19.50975227355957,-9.837485313415527,-11.648573875427246,4.44088077545166,-25.121572494506836,-4.207963943481445,10.9309720993042,-8.171740531921387,9.909773826599121,-11.10554027557373,-6.396514892578125,-3.2310950756073,18.686857223510742,-0.6287259459495544,-14.688819885253906,-11.478019714355469,-9.440041542053223,-6.8434319496154785,5.2344584465026855,-19.774457931518555,-7.643913745880127,3.2234175205230713,1.2740848064422607,-4.033807754516602,-7.568445682525635,11.391060829162598,-10.966939926147461,-13.2032470703125,-1.9250704050064087,-7.394648551940918,-16.026906967163086,1.5777982473373413,-18.783767700195312,-7.463032245635986,-15.607523918151855,10.882290840148926,-0.5364123582839966,-9.470428466796875,0.7397812604904175,-20.2905330657959,-16.704790115356445,-3.4791975021362305,1.4208074808120728,6.122654914855957,2.394307851791382,-15.69734001159668,10.467570304870605,3.769880771636963,5.139461994171143,-6.989067554473877,-5.75124454498291,-18.558664321899414,9.032916069030762,6.108794212341309,-9.03220272064209,11.072933197021484,-20.888551712036133,25.40441131591797,-1.6755495071411133,10.095946311950684,-16.459144592285156,-7.800868511199951,18.935136795043945,-6.964086532592773,-4.0496063232421875,-15.24022388458252,5.581517219543457,18.095470428466797,12.200230598449707,2.5199456214904785,-8.038627624511719,-10.93609619140625,-4.741884231567383,-2.8464746475219727,-25.68580436706543,9.359636306762695,-3.754714250564575,-6.396512985229492,-6.427353858947754,-5.522112846374512,-7.2423200607299805,11.237568855285645,12.84682559967041,18.488971710205078,9.25479507446289,1.691818356513977,-11.766294479370117,0.7370836734771729,6.4926605224609375,10.808738708496094,-4.178770065307617,-3.8990259170532227,19.322826385498047,2.3004953861236572,8.775467872619629,-6.170583724975586,5.006728172302246,-6.043245792388916,5.378265380859375,-2.9760148525238037,5.970395565032959,-9.35596752166748,-6.908974647521973,12.27478313446045,-7.532149791717529,6.581401824951172,4.065061569213867,8.542380332946777,-3.817790985107422,-0.9623802900314331,19.175464630126953,-19.683069229125977,13.07327651977539,-15.749982833862305,-14.89647102355957,4.406210899353027,-8.318882942199707,-2.107516050338745,-8.22839641571045,3.7040233612060547,5.367546081542969,-19.127578735351562,12.498701095581055,-2.7641072273254395,-0.4391421675682068,1.744615077972412,4.386018753051758,-2.1961143016815186,6.1615424156188965,3.153337001800537,-16.2983455657959,-4.080478668212891,2.610525608062744,12.12988567352295,7.045497894287109,-3.729708433151245,6.423588752746582,4.453535556793213,-14.954939842224121,-4.450527667999268,9.757881164550781,-6.005934715270996,16.105255126953125,2.204411268234253,1.733586072921753,9.679518699645996,10.475838661193848,4.275699615478516,17.357879638671875,-13.254509925842285,7.845273017883301,13.05500602722168,3.7152528762817383,-11.205615043640137,-11.04404354095459,-4.378955841064453,-4.362194061279297,-0.12243042886257172,16.22270393371582,-0.5819717645645142,-0.03815920278429985,-12.470130920410156,-8.916193962097168,5.3149261474609375,10.139137268066406,-9.149821281433105,-20.343894958496094,-7.7082743644714355,0.9960781931877136,5.324830532073975,1.1599757671356201,7.792720317840576,-15.639192581176758,11.994426727294922,-0.4615539610385895,15.307122230529785,-6.176738739013672,3.056922197341919,2.4392151832580566,5.81033182144165,-12.635156631469727,7.478571891784668,8.887752532958984,5.8846435546875,10.541184425354004,18.271615982055664,12.970132827758789,-5.445308685302734,18.056936264038086,-24.64795684814453,5.652542591094971,1.3772928714752197,-3.5580103397369385,-16.21034049987793,0.3301728367805481,-1.4173425436019897,-4.820960998535156,-10.100724220275879,-6.748165607452393,-8.687618255615234,-6.53899621963501,20.98777198791504,-19.609375,-9.725578308105469,-1.5854594707489014,14.721957206726074,11.574235916137695,-1.221588134765625,-4.13692045211792,1.9201215505599976,6.189765930175781,13.435811042785645,9.10397720336914,-16.57916259765625,-2.1641077995300293,13.16717529296875,-5.131522178649902,-6.218862533569336,0.10986977070569992,-13.170918464660645,15.931351661682129,10.880608558654785,-15.37376594543457,4.01869010925293,13.020318031311035,-4.090266227722168,-5.322228908538818,3.260857582092285,4.3325958251953125,17.075775146484375,10.25339412689209,5.719741344451904,-12.208593368530273,-2.1836657524108887,6.873041152954102,1.3701791763305664,5.304983139038086,10.371487617492676,-8.810893058776855,-4.002779960632324,-8.029118537902832,-13.588459968566895,8.107820510864258,11.990012168884277,-8.880109786987305,11.763545036315918,-10.307974815368652,12.908329010009766,-8.95943546295166,-3.9739890098571777,-13.513139724731445,24.36235809326172,-8.878602981567383,-6.974242210388184,-0.969936192035675,9.8649320602417,10.902154922485352,11.973803520202637,5.860928535461426,-1.2854235172271729,18.7396240234375,-16.35460090637207,-14.875825881958008,8.505122184753418,-1.6749502420425415,-15.049463272094727,9.987975120544434,5.858802318572998,-11.214683532714844,-1.3350863456726074,-2.8428430557250977,9.328758239746094,-4.9436564445495605,-5.613173484802246,-7.360774517059326,-14.827991485595703,-5.586725234985352,-8.182544708251953,-10.592737197875977,6.0506744384765625,15.682974815368652,3.299966335296631,16.391931533813477,-4.105153560638428,-0.7634366750717163,4.535158634185791,2.481034517288208,0.41597074270248413,17.61176300048828,-8.347578048706055,-5.623135566711426,-2.7348008155822754,-23.923898696899414,-6.209219455718994,4.436739921569824,4.841676235198975,-23.34147834777832,-22.785083770751953,-17.856733322143555,-6.75778341293335,5.954033374786377,-1.764284372329712,-2.855170965194702,22.062864303588867,2.098205804824829,4.297691345214844,-1.1732075214385986,-1.5380157232284546,6.415719509124756,-2.533541202545166,-4.122429847717285,0.6185666918754578,18.657350540161133,-6.471756935119629,5.354129791259766,10.538366317749023,-2.036475896835327,13.349637985229492,-18.083772659301758,3.1176161766052246,-14.208284378051758,-1.3132233619689941,8.799949645996094,12.401216506958008,-1.1704741716384888,-16.121923446655273,-18.40897560119629,-16.160118103027344,8.536837577819824,-7.364349365234375,9.83176326751709,1.0751171112060547,18.390628814697266,-14.580648422241211,-15.985101699829102,-5.820328712463379,12.078385353088379,5.12218713760376,3.5543601512908936,6.756750583648682,6.914383888244629,-6.055988311767578,18.542789459228516,-5.47737979888916,-4.834848403930664,-4.609289646148682,-1.9495612382888794,-18.139270782470703,16.626724243164062,-13.59538459777832,-2.4885365962982178,7.621764183044434,-21.8609561920166,-2.745845079421997,-2.149251937866211,3.2342278957366943,2.8377299308776855,-13.967923164367676,-8.387742042541504,-4.081783771514893,6.806636810302734,2.873850107192993,24.232257843017578,-5.388796806335449,-11.264176368713379,-9.362749099731445,6.255728721618652,3.154681444168091,11.29643726348877,-8.229116439819336,-16.60422706604004,6.442656517028809,-13.957352638244629,-10.245635032653809,-7.929339408874512,-9.936071395874023,9.726205825805664,-19.052799224853516,-14.032099723815918,14.146346092224121,-17.239744186401367,0.12985990941524506,-4.579533576965332,8.559727668762207,3.5788280963897705,-10.105660438537598,8.86863899230957,-23.490610122680664,-8.686058044433594,-1.2543164491653442,3.8092856407165527,-2.6025471687316895,-6.0727925300598145,11.968146324157715,-3.144646167755127,-4.63612699508667,-4.671441078186035,12.849408149719238,3.91827130317688,-16.524063110351562,-3.5654103755950928,-24.986352920532227,8.904157638549805,10.439577102661133,-9.057198524475098,12.164700508117676,-17.559494018554688,0.3233044445514679,-22.690780639648438,6.606468200683594,-1.6641218662261963,-6.537703990936279,4.55372428894043,9.74818229675293,-4.466307163238525,-11.871182441711426,-6.821620941162109,15.416234016418457,6.5037665367126465,5.962928771972656,-0.7281540036201477,3.8097941875457764,12.41710090637207,0.8820319771766663,-17.176067352294922,-3.863222599029541,7.827512264251709,-2.763538122177124,-15.29190444946289,17.940954208374023,4.440454483032227,14.770960807800293,15.26497745513916,5.566505432128906,-4.3390045166015625,-6.667379379272461,21.996177673339844,-11.365160942077637,-10.84037971496582,3.39567232131958,19.364259719848633,-4.479786396026611,-7.297745704650879,-5.016482353210449,14.282777786254883,-15.487809181213379,-13.876800537109375,-15.934836387634277,-5.175466537475586,-15.704946517944336,2.7564005851745605,-5.031890869140625,-3.6147964000701904,-10.70113754272461,-17.032821655273438,-8.228111267089844,11.654818534851074,-22.500022888183594,1.8988487720489502,-6.923914909362793,16.512392044067383,-1.548447847366333,0.8006572127342224,-8.939486503601074,16.400306701660156,-2.866641044616699,5.854123115539551,22.943153381347656,-1.0809240341186523,7.562459468841553,3.220350980758667,-7.767810821533203,-21.18941879272461,-5.295809745788574,8.619521141052246,12.112865447998047,-6.7172956466674805,-2.7241461277008057,-4.0919952392578125,-0.715941309928894,6.742242813110352,-7.340671062469482,2.5662808418273926,6.3228983879089355,-2.825458288192749,6.643097400665283,4.688612937927246,1.8148013353347778,-13.015241622924805,10.309185028076172,4.846269130706787,16.91208839416504,9.905426979064941,5.869379997253418,10.710086822509766,-3.9727859497070312,-13.106353759765625,-15.679673194885254,1.9836633205413818,-8.579917907714844,14.864943504333496,13.7559814453125,4.391038417816162,12.966702461242676,15.04085636138916,-1.6721739768981934,-5.607447624206543,8.471829414367676,-10.880236625671387,6.122431755065918,19.02989387512207,-1.8152732849121094,0.6408605575561523,-4.876803398132324,25.66413688659668,2.753371238708496,15.225311279296875,0.18840685486793518,-12.815372467041016,9.129744529724121,-15.15316390991211,0.26428449153900146,-8.416817665100098,-4.929223537445068,19.114036560058594,3.606119155883789,-3.8857476711273193,-15.968432426452637,-18.07855987548828,0.3164464235305786,-14.846750259399414,-10.114230155944824,7.142830848693848,4.229445934295654,2.9134397506713867,17.422420501708984,18.8839054107666,14.274386405944824,-13.660958290100098,-15.127923011779785,1.5485557317733765,-21.849653244018555,0.7402825355529785,-19.422687530517578,6.3461737632751465,1.7387245893478394,-5.658127307891846,8.861543655395508,7.6125617027282715,-19.02223014831543,10.588180541992188,-2.7602643966674805,-0.7403358817100525,17.359556198120117,14.891169548034668,-17.86469841003418,-16.436735153198242,2.158259630203247,-12.334009170532227,-7.056938171386719,16.05120849609375,-15.73618221282959,-5.7143049240112305,14.917510986328125,-2.490556478500366,8.204622268676758,-6.769001483917236,-7.914480686187744,-14.103551864624023,15.936638832092285,-8.825230598449707,-4.365566730499268,10.77720832824707,15.054266929626465,4.722398281097412,8.608120918273926,-1.983299970626831,23.38138771057129,-0.5880939960479736,-2.9590067863464355,11.732184410095215,-5.175029277801514,7.095193386077881,-19.563600540161133,-14.185323715209961,9.3994722366333,-3.078773260116577,-19.04738998413086,-11.94625473022461,6.567922592163086,20.127920150756836,2.5525174140930176,12.852988243103027,-0.049211908131837845,13.393884658813477,1.0668586492538452,-15.342913627624512,12.619725227355957,6.482539176940918,0.04630756378173828,8.893245697021484,15.654594421386719,-9.03171443939209,-7.3060994148254395,4.261457920074463,14.906975746154785,-9.242542266845703,-14.377846717834473,-12.169631004333496,14.870011329650879,-13.220471382141113,-11.048727035522461,-0.44915711879730225,-5.625661373138428,24.17836570739746,-16.369022369384766,10.598134994506836,-0.6117546558380127,19.640233993530273,-22.10794448852539,-17.31460952758789,-6.280847549438477,3.374452590942383,6.288923263549805,8.898786544799805,-3.129903554916382,21.947406768798828,-12.181854248046875,4.136296272277832,13.122339248657227,5.249051094055176,-18.13139533996582,-1.0840730667114258,-9.277636528015137,6.978336334228516,-10.182440757751465,1.1174676418304443,-6.225687026977539,5.669538974761963,13.154070854187012,-16.23975944519043,-9.125011444091797,1.0463253259658813,11.827702522277832,-3.1762895584106445,9.351332664489746,-7.5513176918029785,12.963576316833496,-22.355314254760742,-16.529415130615234,20.77322769165039,-16.272274017333984,15.092281341552734,7.518005847930908,-4.653293609619141,-7.891498565673828,-13.338672637939453,6.773179054260254,-6.872374057769775,3.750546932220459,19.71503448486328,5.5529375076293945,-8.931734085083008,-3.0218002796173096,8.986224174499512,-14.063833236694336,-3.009976863861084,6.923238754272461,2.3386833667755127,-9.180238723754883,-6.119715213775635,-0.5454851984977722,15.61624526977539,-2.8026626110076904,8.670271873474121,3.510687828063965,-7.360653877258301,13.928535461425781,5.200900554656982,-14.546220779418945,9.435555458068848,-14.742491722106934,-3.2382302284240723,1.914504051208496,7.17018461227417,7.431483745574951,-1.3802796602249146,-15.073439598083496,-2.812161684036255,0.8822615146636963,20.398181915283203,-6.586479187011719,8.0044527053833,-1.042743444442749,3.61763858795166,-10.90350341796875,4.388992786407471,-1.8866362571716309,-3.4738943576812744,17.246334075927734,-10.921911239624023,1.8318536281585693,1.6329638957977295,-2.7248027324676514,4.097973346710205,-7.493383407592773,16.669857025146484,-13.912052154541016,7.486969947814941,-0.6767444610595703,6.750622272491455,12.761761665344238,-7.846070289611816,16.159683227539062,0.42352643609046936,-11.975234985351562,9.332815170288086,10.970544815063477,-11.038518905639648,12.398934364318848,-13.916839599609375,-16.45743751525879,-1.728604793548584,-8.178985595703125,-11.671647071838379,9.178465843200684,-9.802665710449219,5.625168323516846,-13.86843204498291,-21.083637237548828,4.0569748878479,9.709824562072754,-10.795398712158203,12.92159366607666,-10.012564659118652,-2.0642013549804688,8.381972312927246,9.513821601867676,-19.348716735839844],\"type\":\"scatter3d\"}],                        {\"template\":{\"data\":{\"histogram2dcontour\":[{\"type\":\"histogram2dcontour\",\"colorbar\":{\"outlinewidth\":0,\"ticks\":\"\"},\"colorscale\":[[0.0,\"#0d0887\"],[0.1111111111111111,\"#46039f\"],[0.2222222222222222,\"#7201a8\"],[0.3333333333333333,\"#9c179e\"],[0.4444444444444444,\"#bd3786\"],[0.5555555555555556,\"#d8576b\"],[0.6666666666666666,\"#ed7953\"],[0.7777777777777778,\"#fb9f3a\"],[0.8888888888888888,\"#fdca26\"],[1.0,\"#f0f921\"]]}],\"choropleth\":[{\"type\":\"choropleth\",\"colorbar\":{\"outlinewidth\":0,\"ticks\":\"\"}}],\"histogram2d\":[{\"type\":\"histogram2d\",\"colorbar\":{\"outlinewidth\":0,\"ticks\":\"\"},\"colorscale\":[[0.0,\"#0d0887\"],[0.1111111111111111,\"#46039f\"],[0.2222222222222222,\"#7201a8\"],[0.3333333333333333,\"#9c179e\"],[0.4444444444444444,\"#bd3786\"],[0.5555555555555556,\"#d8576b\"],[0.6666666666666666,\"#ed7953\"],[0.7777777777777778,\"#fb9f3a\"],[0.8888888888888888,\"#fdca26\"],[1.0,\"#f0f921\"]]}],\"heatmap\":[{\"type\":\"heatmap\",\"colorbar\":{\"outlinewidth\":0,\"ticks\":\"\"},\"colorscale\":[[0.0,\"#0d0887\"],[0.1111111111111111,\"#46039f\"],[0.2222222222222222,\"#7201a8\"],[0.3333333333333333,\"#9c179e\"],[0.4444444444444444,\"#bd3786\"],[0.5555555555555556,\"#d8576b\"],[0.6666666666666666,\"#ed7953\"],[0.7777777777777778,\"#fb9f3a\"],[0.8888888888888888,\"#fdca26\"],[1.0,\"#f0f921\"]]}],\"heatmapgl\":[{\"type\":\"heatmapgl\",\"colorbar\":{\"outlinewidth\":0,\"ticks\":\"\"},\"colorscale\":[[0.0,\"#0d0887\"],[0.1111111111111111,\"#46039f\"],[0.2222222222222222,\"#7201a8\"],[0.3333333333333333,\"#9c179e\"],[0.4444444444444444,\"#bd3786\"],[0.5555555555555556,\"#d8576b\"],[0.6666666666666666,\"#ed7953\"],[0.7777777777777778,\"#fb9f3a\"],[0.8888888888888888,\"#fdca26\"],[1.0,\"#f0f921\"]]}],\"contourcarpet\":[{\"type\":\"contourcarpet\",\"colorbar\":{\"outlinewidth\":0,\"ticks\":\"\"}}],\"contour\":[{\"type\":\"contour\",\"colorbar\":{\"outlinewidth\":0,\"ticks\":\"\"},\"colorscale\":[[0.0,\"#0d0887\"],[0.1111111111111111,\"#46039f\"],[0.2222222222222222,\"#7201a8\"],[0.3333333333333333,\"#9c179e\"],[0.4444444444444444,\"#bd3786\"],[0.5555555555555556,\"#d8576b\"],[0.6666666666666666,\"#ed7953\"],[0.7777777777777778,\"#fb9f3a\"],[0.8888888888888888,\"#fdca26\"],[1.0,\"#f0f921\"]]}],\"surface\":[{\"type\":\"surface\",\"colorbar\":{\"outlinewidth\":0,\"ticks\":\"\"},\"colorscale\":[[0.0,\"#0d0887\"],[0.1111111111111111,\"#46039f\"],[0.2222222222222222,\"#7201a8\"],[0.3333333333333333,\"#9c179e\"],[0.4444444444444444,\"#bd3786\"],[0.5555555555555556,\"#d8576b\"],[0.6666666666666666,\"#ed7953\"],[0.7777777777777778,\"#fb9f3a\"],[0.8888888888888888,\"#fdca26\"],[1.0,\"#f0f921\"]]}],\"mesh3d\":[{\"type\":\"mesh3d\",\"colorbar\":{\"outlinewidth\":0,\"ticks\":\"\"}}],\"scatter\":[{\"fillpattern\":{\"fillmode\":\"overlay\",\"size\":10,\"solidity\":0.2},\"type\":\"scatter\"}],\"parcoords\":[{\"type\":\"parcoords\",\"line\":{\"colorbar\":{\"outlinewidth\":0,\"ticks\":\"\"}}}],\"scatterpolargl\":[{\"type\":\"scatterpolargl\",\"marker\":{\"colorbar\":{\"outlinewidth\":0,\"ticks\":\"\"}}}],\"bar\":[{\"error_x\":{\"color\":\"#2a3f5f\"},\"error_y\":{\"color\":\"#2a3f5f\"},\"marker\":{\"line\":{\"color\":\"#E5ECF6\",\"width\":0.5},\"pattern\":{\"fillmode\":\"overlay\",\"size\":10,\"solidity\":0.2}},\"type\":\"bar\"}],\"scattergeo\":[{\"type\":\"scattergeo\",\"marker\":{\"colorbar\":{\"outlinewidth\":0,\"ticks\":\"\"}}}],\"scatterpolar\":[{\"type\":\"scatterpolar\",\"marker\":{\"colorbar\":{\"outlinewidth\":0,\"ticks\":\"\"}}}],\"histogram\":[{\"marker\":{\"pattern\":{\"fillmode\":\"overlay\",\"size\":10,\"solidity\":0.2}},\"type\":\"histogram\"}],\"scattergl\":[{\"type\":\"scattergl\",\"marker\":{\"colorbar\":{\"outlinewidth\":0,\"ticks\":\"\"}}}],\"scatter3d\":[{\"type\":\"scatter3d\",\"line\":{\"colorbar\":{\"outlinewidth\":0,\"ticks\":\"\"}},\"marker\":{\"colorbar\":{\"outlinewidth\":0,\"ticks\":\"\"}}}],\"scattermapbox\":[{\"type\":\"scattermapbox\",\"marker\":{\"colorbar\":{\"outlinewidth\":0,\"ticks\":\"\"}}}],\"scatterternary\":[{\"type\":\"scatterternary\",\"marker\":{\"colorbar\":{\"outlinewidth\":0,\"ticks\":\"\"}}}],\"scattercarpet\":[{\"type\":\"scattercarpet\",\"marker\":{\"colorbar\":{\"outlinewidth\":0,\"ticks\":\"\"}}}],\"carpet\":[{\"aaxis\":{\"endlinecolor\":\"#2a3f5f\",\"gridcolor\":\"white\",\"linecolor\":\"white\",\"minorgridcolor\":\"white\",\"startlinecolor\":\"#2a3f5f\"},\"baxis\":{\"endlinecolor\":\"#2a3f5f\",\"gridcolor\":\"white\",\"linecolor\":\"white\",\"minorgridcolor\":\"white\",\"startlinecolor\":\"#2a3f5f\"},\"type\":\"carpet\"}],\"table\":[{\"cells\":{\"fill\":{\"color\":\"#EBF0F8\"},\"line\":{\"color\":\"white\"}},\"header\":{\"fill\":{\"color\":\"#C8D4E3\"},\"line\":{\"color\":\"white\"}},\"type\":\"table\"}],\"barpolar\":[{\"marker\":{\"line\":{\"color\":\"#E5ECF6\",\"width\":0.5},\"pattern\":{\"fillmode\":\"overlay\",\"size\":10,\"solidity\":0.2}},\"type\":\"barpolar\"}],\"pie\":[{\"automargin\":true,\"type\":\"pie\"}]},\"layout\":{\"autotypenumbers\":\"strict\",\"colorway\":[\"#636efa\",\"#EF553B\",\"#00cc96\",\"#ab63fa\",\"#FFA15A\",\"#19d3f3\",\"#FF6692\",\"#B6E880\",\"#FF97FF\",\"#FECB52\"],\"font\":{\"color\":\"#2a3f5f\"},\"hovermode\":\"closest\",\"hoverlabel\":{\"align\":\"left\"},\"paper_bgcolor\":\"white\",\"plot_bgcolor\":\"#E5ECF6\",\"polar\":{\"bgcolor\":\"#E5ECF6\",\"angularaxis\":{\"gridcolor\":\"white\",\"linecolor\":\"white\",\"ticks\":\"\"},\"radialaxis\":{\"gridcolor\":\"white\",\"linecolor\":\"white\",\"ticks\":\"\"}},\"ternary\":{\"bgcolor\":\"#E5ECF6\",\"aaxis\":{\"gridcolor\":\"white\",\"linecolor\":\"white\",\"ticks\":\"\"},\"baxis\":{\"gridcolor\":\"white\",\"linecolor\":\"white\",\"ticks\":\"\"},\"caxis\":{\"gridcolor\":\"white\",\"linecolor\":\"white\",\"ticks\":\"\"}},\"coloraxis\":{\"colorbar\":{\"outlinewidth\":0,\"ticks\":\"\"}},\"colorscale\":{\"sequential\":[[0.0,\"#0d0887\"],[0.1111111111111111,\"#46039f\"],[0.2222222222222222,\"#7201a8\"],[0.3333333333333333,\"#9c179e\"],[0.4444444444444444,\"#bd3786\"],[0.5555555555555556,\"#d8576b\"],[0.6666666666666666,\"#ed7953\"],[0.7777777777777778,\"#fb9f3a\"],[0.8888888888888888,\"#fdca26\"],[1.0,\"#f0f921\"]],\"sequentialminus\":[[0.0,\"#0d0887\"],[0.1111111111111111,\"#46039f\"],[0.2222222222222222,\"#7201a8\"],[0.3333333333333333,\"#9c179e\"],[0.4444444444444444,\"#bd3786\"],[0.5555555555555556,\"#d8576b\"],[0.6666666666666666,\"#ed7953\"],[0.7777777777777778,\"#fb9f3a\"],[0.8888888888888888,\"#fdca26\"],[1.0,\"#f0f921\"]],\"diverging\":[[0,\"#8e0152\"],[0.1,\"#c51b7d\"],[0.2,\"#de77ae\"],[0.3,\"#f1b6da\"],[0.4,\"#fde0ef\"],[0.5,\"#f7f7f7\"],[0.6,\"#e6f5d0\"],[0.7,\"#b8e186\"],[0.8,\"#7fbc41\"],[0.9,\"#4d9221\"],[1,\"#276419\"]]},\"xaxis\":{\"gridcolor\":\"white\",\"linecolor\":\"white\",\"ticks\":\"\",\"title\":{\"standoff\":15},\"zerolinecolor\":\"white\",\"automargin\":true,\"zerolinewidth\":2},\"yaxis\":{\"gridcolor\":\"white\",\"linecolor\":\"white\",\"ticks\":\"\",\"title\":{\"standoff\":15},\"zerolinecolor\":\"white\",\"automargin\":true,\"zerolinewidth\":2},\"scene\":{\"xaxis\":{\"backgroundcolor\":\"#E5ECF6\",\"gridcolor\":\"white\",\"linecolor\":\"white\",\"showbackground\":true,\"ticks\":\"\",\"zerolinecolor\":\"white\",\"gridwidth\":2},\"yaxis\":{\"backgroundcolor\":\"#E5ECF6\",\"gridcolor\":\"white\",\"linecolor\":\"white\",\"showbackground\":true,\"ticks\":\"\",\"zerolinecolor\":\"white\",\"gridwidth\":2},\"zaxis\":{\"backgroundcolor\":\"#E5ECF6\",\"gridcolor\":\"white\",\"linecolor\":\"white\",\"showbackground\":true,\"ticks\":\"\",\"zerolinecolor\":\"white\",\"gridwidth\":2}},\"shapedefaults\":{\"line\":{\"color\":\"#2a3f5f\"}},\"annotationdefaults\":{\"arrowcolor\":\"#2a3f5f\",\"arrowhead\":0,\"arrowwidth\":1},\"geo\":{\"bgcolor\":\"white\",\"landcolor\":\"#E5ECF6\",\"subunitcolor\":\"white\",\"showland\":true,\"showlakes\":true,\"lakecolor\":\"white\"},\"title\":{\"x\":0.05},\"mapbox\":{\"style\":\"light\"}}},\"scene\":{\"domain\":{\"x\":[0.0,1.0],\"y\":[0.0,1.0]},\"xaxis\":{\"title\":{\"text\":\"x\"}},\"yaxis\":{\"title\":{\"text\":\"y\"}},\"zaxis\":{\"title\":{\"text\":\"z\"}}},\"legend\":{\"tracegroupgap\":0},\"margin\":{\"t\":60}},                        {\"responsive\": true}                    ).then(function(){\n",
              "                            \n",
              "var gd = document.getElementById('601d1ed9-b189-41be-ae98-d4dd108210dc');\n",
              "var x = new MutationObserver(function (mutations, observer) {{\n",
              "        var display = window.getComputedStyle(gd).display;\n",
              "        if (!display || display === 'none') {{\n",
              "            console.log([gd, 'removed!']);\n",
              "            Plotly.purge(gd);\n",
              "            observer.disconnect();\n",
              "        }}\n",
              "}});\n",
              "\n",
              "// Listen for the removal of the full notebook cells\n",
              "var notebookContainer = gd.closest('#notebook-container');\n",
              "if (notebookContainer) {{\n",
              "    x.observe(notebookContainer, {childList: true});\n",
              "}}\n",
              "\n",
              "// Listen for the clearing of the current output cell\n",
              "var outputEl = gd.closest('.output');\n",
              "if (outputEl) {{\n",
              "    x.observe(outputEl, {childList: true});\n",
              "}}\n",
              "\n",
              "                        })                };                            </script>        </div>\n",
              "</body>\n",
              "</html>"
            ]
          },
          "metadata": {}
        }
      ]
    },
    {
      "cell_type": "code",
      "source": [],
      "metadata": {
        "id": "thmYk6WO5FOd"
      },
      "execution_count": 189,
      "outputs": []
    }
  ]
}